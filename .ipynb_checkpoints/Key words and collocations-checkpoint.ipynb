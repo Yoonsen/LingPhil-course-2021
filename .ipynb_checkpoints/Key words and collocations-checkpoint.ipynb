{
 "cells": [
  {
   "cell_type": "markdown",
   "metadata": {},
   "source": [
    "# Keywords and collocations\n",
    "\n",
    "Both keyword and collocations are based on rearranging a frequency list. For keywords the list comes from documents, for collocations the frequencies comes from co-occurrence statistics. \n",
    "\n",
    "The frequencies are compared to a reference, for example representing some kind of normality."
   ]
  },
  {
   "cell_type": "markdown",
   "metadata": {},
   "source": [
    "### Startup code"
   ]
  },
  {
   "cell_type": "code",
   "execution_count": null,
   "metadata": {},
   "outputs": [],
   "source": [
    "import dhlab.nbtext as nb\n",
    "import dhlab.module_update as mu\n",
    "import warnings\n",
    "warnings.filterwarnings('ignore')\n",
    "mu.css()"
   ]
  },
  {
   "cell_type": "markdown",
   "metadata": {},
   "source": [
    "## The reference\n",
    "\n",
    "This is an object of the N most frequent words in the book collection."
   ]
  },
  {
   "cell_type": "code",
   "execution_count": null,
   "metadata": {},
   "outputs": [],
   "source": [
    "tot = nb.frame(nb.totals(200000), 'tot')\n",
    "tot.head(20)"
   ]
  },
  {
   "cell_type": "markdown",
   "metadata": {},
   "source": [
    "Normalized it becomes"
   ]
  },
  {
   "cell_type": "code",
   "execution_count": null,
   "metadata": {},
   "outputs": [],
   "source": [
    "nb.normalize_corpus_dataframe(tot)\n",
    "tot.head(20)"
   ]
  },
  {
   "cell_type": "markdown",
   "metadata": {},
   "source": [
    "## Construct a corpus using metadata\n",
    "\n",
    "Subject headings, author gender or Dewey. Check out Dewey [Webdewey](http://deweysearchno.pansoft.de/webdeweysearch/index.html)"
   ]
  },
  {
   "cell_type": "markdown",
   "metadata": {},
   "source": [
    "Select a corpus of 200 books from for example dewey 641 (food and drink). Note that a corpus is a collection of references to books. The text is stored remotely, only the references in the from of URNs are local."
   ]
  },
  {
   "cell_type": "code",
   "execution_count": null,
   "metadata": {},
   "outputs": [],
   "source": [
    "corpus = nb.book_corpus(ddk='641.2%', period=(1960, 2020), limit=200)\n",
    "corpus"
   ]
  },
  {
   "cell_type": "markdown",
   "metadata": {},
   "source": [
    "### Aggregate the corpus\n",
    "\n",
    "You may download all the frequencies to a dataframe. Here we do the aggregation on the server side. The command for aggregation is `aggregate_urns`"
   ]
  },
  {
   "cell_type": "code",
   "execution_count": null,
   "metadata": {},
   "outputs": [],
   "source": [
    "corpus_agg = nb.aggregate_urns(nb.pure_urn(corpus))\n",
    "\n",
    "corpus_agg = nb.frame_sort(nb.frame(corpus_agg, 'freq'))\n",
    "\n",
    "corpus_agg.head(10)"
   ]
  },
  {
   "cell_type": "markdown",
   "metadata": {},
   "source": [
    "Normalized"
   ]
  },
  {
   "cell_type": "code",
   "execution_count": null,
   "metadata": {},
   "outputs": [],
   "source": [
    "nb.normalize_corpus_dataframe(corpus_agg)\n",
    "corpus_agg.head(10)"
   ]
  },
  {
   "cell_type": "markdown",
   "metadata": {},
   "source": [
    "### Compare the discrepancy between frequencies\n",
    "\n",
    "In terms of frequencies this is a comparison\n",
    "\n",
    "$$\\textrm{association}(w) = \\frac{\\textrm{target_freqs}(w)}{\\textrm{reference}(w)}$$\n",
    "\n",
    "This formula reflects the probabilistic notion of relevance. The target frequency of words is a conditional probability and the reference may be seen the unconditional. The set (or condition) $B$ is irrelevant for $w$ if\n",
    "\n",
    "$$p(w|w \\in B) = p(w)$$\n",
    "\n",
    "The larger the ratio\n",
    "\n",
    "$$\\frac{p(w|w \\in B)}{p(w)}$$\n",
    "\n",
    "the more relevant $B$ is for a particular word $w$.\n"
   ]
  },
  {
   "cell_type": "code",
   "execution_count": null,
   "metadata": {},
   "outputs": [],
   "source": [
    "assoc = corpus_agg.freq/tot.tot"
   ]
  },
  {
   "cell_type": "code",
   "execution_count": null,
   "metadata": {},
   "outputs": [],
   "source": [
    "assoc.sort_values(ascending = False).head(30)"
   ]
  },
  {
   "cell_type": "markdown",
   "metadata": {},
   "source": [
    "## Collocation \n"
   ]
  },
  {
   "cell_type": "markdown",
   "metadata": {},
   "source": [
    "###  Build the collocation\n",
    "\n",
    "Command is `urn_coll()`. Check with a concordance"
   ]
  },
  {
   "cell_type": "code",
   "execution_count": null,
   "metadata": {},
   "outputs": [],
   "source": [
    "collword = 'rødvin'"
   ]
  },
  {
   "cell_type": "markdown",
   "metadata": {},
   "source": [
    "Construct the collocation"
   ]
  },
  {
   "cell_type": "code",
   "execution_count": null,
   "metadata": {},
   "outputs": [],
   "source": [
    "coll = nb.urn_coll(collword, urns = nb.pure_urn(corpus), after = 5, before = 5, limit = 1000)"
   ]
  },
  {
   "cell_type": "markdown",
   "metadata": {},
   "source": [
    "The collocation is a frequency list, just as the aggregated corpus"
   ]
  },
  {
   "cell_type": "code",
   "execution_count": null,
   "metadata": {},
   "outputs": [],
   "source": [
    "coll.columns = ['freq']"
   ]
  },
  {
   "cell_type": "code",
   "execution_count": null,
   "metadata": {},
   "outputs": [],
   "source": [
    "coll.head(10)"
   ]
  },
  {
   "cell_type": "code",
   "execution_count": null,
   "metadata": {},
   "outputs": [],
   "source": [
    "nb.normalize_corpus_dataframe(coll)\n",
    "coll.head(20)"
   ]
  },
  {
   "cell_type": "markdown",
   "metadata": {},
   "source": [
    "The collocation has in general higher values in the normalized version, due to the smaller size."
   ]
  },
  {
   "cell_type": "code",
   "execution_count": null,
   "metadata": {},
   "outputs": [],
   "source": [
    "coll_assoc = (coll.freq/tot.tot).sort_values(ascending = False)"
   ]
  },
  {
   "cell_type": "code",
   "execution_count": null,
   "metadata": {},
   "outputs": [],
   "source": [
    "coll_assoc.head(20)"
   ]
  },
  {
   "cell_type": "markdown",
   "metadata": {},
   "source": [
    "### Compare co-occurence with corpus\n",
    "\n",
    "Here we can use an exponent to suppress low frequency words. Or multiply with a compressed absolute frequency (logarithm, square root...)"
   ]
  },
  {
   "cell_type": "code",
   "execution_count": null,
   "metadata": {},
   "outputs": [],
   "source": [
    "coll_assoc_korp = (coll.freq**1.8/corpus_agg.freq).sort_values(ascending = False)\n",
    "\n",
    "coll_assoc_korp.head(20)"
   ]
  },
  {
   "cell_type": "markdown",
   "metadata": {},
   "source": [
    "# Exercise\n",
    "\n",
    "1. change corpus\n",
    "1. change collword"
   ]
  }
 ],
 "metadata": {
  "hide_input": false,
  "kernelspec": {
   "display_name": "Python 3",
   "language": "python",
   "name": "python3"
  },
  "language_info": {
   "codemirror_mode": {
    "name": "ipython",
    "version": 3
   },
   "file_extension": ".py",
   "mimetype": "text/x-python",
   "name": "python",
   "nbconvert_exporter": "python",
   "pygments_lexer": "ipython3",
   "version": "3.8.10"
  },
  "varInspector": {
   "cols": {
    "lenName": 16,
    "lenType": 16,
    "lenVar": 40
   },
   "kernels_config": {
    "python": {
     "delete_cmd_postfix": "",
     "delete_cmd_prefix": "del ",
     "library": "var_list.py",
     "varRefreshCmd": "print(var_dic_list())"
    },
    "r": {
     "delete_cmd_postfix": ") ",
     "delete_cmd_prefix": "rm(",
     "library": "var_list.r",
     "varRefreshCmd": "cat(var_dic_list()) "
    }
   },
   "types_to_exclude": [
    "module",
    "function",
    "builtin_function_or_method",
    "instance",
    "_Feature"
   ],
   "window_display": false
  }
 },
 "nbformat": 4,
 "nbformat_minor": 2
}
