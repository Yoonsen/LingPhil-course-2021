{
 "cells": [
  {
   "cell_type": "markdown",
   "id": "076c4c74",
   "metadata": {},
   "source": [
    "# Gender in norwegian novels\n",
    "\n",
    "* How to find the distribution of gender in novels\n",
    "* Are females more likely to be referred to again than males?\n"
   ]
  },
  {
   "cell_type": "code",
   "execution_count": null,
   "id": "a0a6b378",
   "metadata": {},
   "outputs": [],
   "source": [
    "# uncomment the line below (remove #) and run of gender-guesser is not installed\n",
    "#!pip install gender-guesser"
   ]
  },
  {
   "cell_type": "code",
   "execution_count": null,
   "id": "28046c30",
   "metadata": {},
   "outputs": [],
   "source": [
    "import gender_guesser.detector as gender\n",
    "import dhlab.module_update as mu\n",
    "import dhlab.nbtext as nb\n",
    "import requests\n",
    "import pandas as pd\n",
    "import json\n",
    "from collections import Counter\n",
    "mu.update(\"wordbank\")\n",
    "import wordbank as wb\n",
    "mu.css()"
   ]
  },
  {
   "cell_type": "code",
   "execution_count": null,
   "id": "27be4edd",
   "metadata": {},
   "outputs": [],
   "source": [
    "detect = gender.Detector()"
   ]
  },
  {
   "cell_type": "markdown",
   "id": "8ba84872",
   "metadata": {},
   "source": [
    "## Build a corpus using metadata\n",
    "\n",
    "search using author dewey, subject translation etc."
   ]
  },
  {
   "cell_type": "code",
   "execution_count": null,
   "id": "45738820",
   "metadata": {},
   "outputs": [],
   "source": [
    "nb.book_corpus(author=\"knaus%karl%\")"
   ]
  },
  {
   "cell_type": "markdown",
   "id": "e8db25bb",
   "metadata": {},
   "source": [
    "### Look up metadata for `2012112638153`"
   ]
  },
  {
   "cell_type": "code",
   "execution_count": null,
   "id": "2389b4b5",
   "metadata": {},
   "outputs": [],
   "source": [
    "nb.metadata(2012112638153)"
   ]
  },
  {
   "cell_type": "markdown",
   "id": "32668843",
   "metadata": {},
   "source": [
    "### Collect the frequency for this book"
   ]
  },
  {
   "cell_type": "code",
   "execution_count": null,
   "id": "b69ab78c",
   "metadata": {},
   "outputs": [],
   "source": [
    "book = nb.frame(nb.get_freq(2012112638153, top=0, cutoff=0))\n",
    "book.head(20)"
   ]
  },
  {
   "cell_type": "markdown",
   "id": "9c5342bf",
   "metadata": {},
   "source": [
    "### Initial gender distribution with pronouns\n",
    "\n",
    "Her with the accusative forms - most frequent"
   ]
  },
  {
   "cell_type": "code",
   "execution_count": null,
   "id": "bd59a768",
   "metadata": {},
   "outputs": [],
   "source": [
    "book.loc[['han', 'hun']]"
   ]
  },
  {
   "cell_type": "markdown",
   "id": "df2d2bb7",
   "metadata": {},
   "source": [
    "### Find words with capital letters\n",
    "\n",
    "Heuristics for a name candidate:\n",
    "\n",
    "1. Starts with a capital letter\n",
    "1. Only first letter is capital\n",
    "1. It won't occur without a capital letter"
   ]
  },
  {
   "cell_type": "code",
   "execution_count": null,
   "id": "6c0f0722",
   "metadata": {},
   "outputs": [],
   "source": [
    "capitals = [x for x in book.index \n",
    "            if x.upper()[0] == x[0] \n",
    "            and x.upper() != x \n",
    "            and x.isalpha() \n",
    "            and not x.lower() in book.index]"
   ]
  },
  {
   "cell_type": "markdown",
   "id": "c49a46f1",
   "metadata": {},
   "source": [
    "### Take a quick look at wordbank"
   ]
  },
  {
   "cell_type": "code",
   "execution_count": null,
   "id": "022d2c19",
   "metadata": {},
   "outputs": [],
   "source": [
    "wb.word_form_many(capitals)"
   ]
  },
  {
   "cell_type": "code",
   "execution_count": null,
   "id": "e64b12e1",
   "metadata": {},
   "outputs": [],
   "source": [
    "wb.word_form_many(['Ask', \"Per\", \"Lars\", \"Bjørn\", \"bjørn\"])"
   ]
  },
  {
   "cell_type": "markdown",
   "id": "f30028f4",
   "metadata": {},
   "source": [
    "### Collect gender data for words in the book"
   ]
  },
  {
   "cell_type": "code",
   "execution_count": null,
   "id": "733fd2d3",
   "metadata": {},
   "outputs": [],
   "source": [
    "gender_data = [(c, detect.get_gender(c)) for c in capitals]"
   ]
  },
  {
   "cell_type": "code",
   "execution_count": null,
   "id": "fe130c86",
   "metadata": {},
   "outputs": [],
   "source": [
    "gf = pd.DataFrame(gender_data, columns = ['name', 'gender']).set_index('name')\n",
    "gf.head(30)"
   ]
  },
  {
   "cell_type": "markdown",
   "id": "2c3e55e2",
   "metadata": {},
   "source": [
    "### Count the different males"
   ]
  },
  {
   "cell_type": "code",
   "execution_count": null,
   "id": "a4049718",
   "metadata": {},
   "outputs": [],
   "source": [
    "gf[gf['gender'] == 'female'].count()"
   ]
  },
  {
   "cell_type": "code",
   "execution_count": null,
   "id": "16e15e88",
   "metadata": {},
   "outputs": [],
   "source": [
    "gf[gf['gender'] == 'male'].count()"
   ]
  },
  {
   "cell_type": "markdown",
   "id": "b4c0d599",
   "metadata": {},
   "source": [
    "### Find names"
   ]
  },
  {
   "cell_type": "code",
   "execution_count": null,
   "id": "f5b687fa",
   "metadata": {},
   "outputs": [],
   "source": [
    "gf[gf['gender'] == 'male'].head(20)"
   ]
  },
  {
   "cell_type": "markdown",
   "id": "e2177128",
   "metadata": {},
   "source": [
    "### Fetch some numbers\n",
    "\n",
    "Have a look at transfer to variables"
   ]
  },
  {
   "cell_type": "code",
   "execution_count": null,
   "id": "28113bc8",
   "metadata": {},
   "outputs": [],
   "source": [
    "book.loc[['han', 'hun', 'jeg']]"
   ]
  },
  {
   "cell_type": "code",
   "execution_count": null,
   "id": "79056552",
   "metadata": {},
   "outputs": [],
   "source": [
    "han = book.loc['han']\n",
    "hun = book.loc['hun']\n",
    "jeg = book.loc['jeg']"
   ]
  },
  {
   "cell_type": "markdown",
   "id": "bc5e1941",
   "metadata": {},
   "source": [
    "### Count the occurrences\n",
    "\n",
    "Each name occurs a couple of times. Here we count how often the different males occur. First. let's have a look at the dataframe of male names, the frequency list. Note possible source of error, first name and last name may count double"
   ]
  },
  {
   "cell_type": "code",
   "execution_count": null,
   "id": "302e0e6f",
   "metadata": {},
   "outputs": [],
   "source": [
    "book.loc[gf.index].head(20)"
   ]
  },
  {
   "cell_type": "markdown",
   "id": "a0d68efb",
   "metadata": {},
   "source": [
    "### Sum up males and females"
   ]
  },
  {
   "cell_type": "code",
   "execution_count": null,
   "id": "858b1f37",
   "metadata": {},
   "outputs": [],
   "source": [
    "males = book.loc[gf[gf['gender'] == 'male'].index].sum()\n",
    "males"
   ]
  },
  {
   "cell_type": "code",
   "execution_count": null,
   "id": "4e57f4e3",
   "metadata": {},
   "outputs": [],
   "source": [
    "females = book.loc[gf[gf[1] == 'female'].index].sum()\n",
    "females"
   ]
  },
  {
   "cell_type": "markdown",
   "id": "06dfc671",
   "metadata": {},
   "source": [
    "### Compare with the pronouns"
   ]
  },
  {
   "cell_type": "code",
   "execution_count": null,
   "id": "8dc5e689",
   "metadata": {},
   "outputs": [],
   "source": [
    "males/females"
   ]
  },
  {
   "cell_type": "code",
   "execution_count": null,
   "id": "fbc0a592",
   "metadata": {},
   "outputs": [],
   "source": [
    "han/hun"
   ]
  },
  {
   "cell_type": "markdown",
   "id": "40b25fa3",
   "metadata": {},
   "source": [
    "### Greater chance of referring to males than females"
   ]
  },
  {
   "cell_type": "code",
   "execution_count": null,
   "id": "1db59c98",
   "metadata": {},
   "outputs": [],
   "source": [
    "han/males"
   ]
  },
  {
   "cell_type": "code",
   "execution_count": null,
   "id": "fad360d5",
   "metadata": {},
   "outputs": [],
   "source": [
    "hun/females"
   ]
  },
  {
   "cell_type": "markdown",
   "id": "58ac5663",
   "metadata": {},
   "source": [
    "## Exercise\n",
    "\n",
    "Change the metadata and choose a different book"
   ]
  }
 ],
 "metadata": {
  "kernelspec": {
   "display_name": "Python 3",
   "language": "python",
   "name": "python3"
  },
  "language_info": {
   "codemirror_mode": {
    "name": "ipython",
    "version": 3
   },
   "file_extension": ".py",
   "mimetype": "text/x-python",
   "name": "python",
   "nbconvert_exporter": "python",
   "pygments_lexer": "ipython3",
   "version": "3.8.10"
  }
 },
 "nbformat": 4,
 "nbformat_minor": 5
}
