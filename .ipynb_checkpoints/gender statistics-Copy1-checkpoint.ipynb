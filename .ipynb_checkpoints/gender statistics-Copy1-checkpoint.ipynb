{
 "cells": [
  {
   "cell_type": "markdown",
   "id": "076c4c74",
   "metadata": {},
   "source": [
    "# Gender in norwegian novels\n",
    "\n",
    "* How to find the distribution of gender in novels\n",
    "* Are females more likely to be referred to again than males?\n"
   ]
  },
  {
   "cell_type": "code",
<<<<<<< HEAD:.ipynb_checkpoints/gender statistics-Copy1-checkpoint.ipynb
<<<<<<< HEAD:.ipynb_checkpoints/gender statistics-Copy1-checkpoint.ipynb
   "execution_count": 1,
=======
   "execution_count": null,
   "id": "a0a6b378",
>>>>>>> parent of 1ed1bc3 (ed):gender statistics.ipynb
=======
   "execution_count": null,
   "id": "a0a6b378",
>>>>>>> parent of 1ed1bc3 (ed):gender statistics.ipynb
   "metadata": {},
   "outputs": [],
   "source": [
    "# uncomment the line below (remove #) and run of gender-guesser is not installed\n",
    "#!pip install gender-guesser"
   ]
  },
  {
   "cell_type": "code",
<<<<<<< HEAD:.ipynb_checkpoints/gender statistics-Copy1-checkpoint.ipynb
<<<<<<< HEAD:.ipynb_checkpoints/gender statistics-Copy1-checkpoint.ipynb
   "execution_count": 2,
   "metadata": {},
   "outputs": [
    {
     "data": {
      "text/markdown": [
       "Updated file `C:\\Users\\larsj\\Documents\\GitHub\\LingPhil-course-2021\\wordbank.py`"
      ],
      "text/plain": [
       "<IPython.core.display.Markdown object>"
      ]
     },
     "metadata": {},
     "output_type": "display_data"
    },
    {
     "data": {
      "text/html": [
       "<style>@import url(\n",
       "http://fonts.googleapis.com/css?family=Lato|Philosopher|Montserrat|Source+Code+Pro|Merriweather|Shippori+Mincho|Istok+Web|Philosopher|Assistant:200,400,700);\n",
       "\n",
       "/*\n",
       "#notebook-container {\n",
       "\t-webkit-box-shadow: none;\n",
       "\tbox-shadow: none;\n",
       "}\n",
       "*/\n",
       "\n",
       "h1, h2, h3, h4, h5, h6 {\n",
       "\tfont-family: 'Montserrat', sans-serif;\n",
       "\tline-height: 2em;\n",
       "    color: #004f99;\n",
       "    font-weight: 600;\n",
       "}\n",
       "\n",
       "h1 { font-size: 4.5em; }\n",
       "h2 { font-size: 4em; }\n",
       "h3 { font-size: 3.5em; }\n",
       "h4 { font-size: 3em; }\n",
       "h5 { font-size: 2.5em; color:DarkSlateGray; }\n",
       "h6 { font-size: 2em; }\n",
       "\n",
       "p {\n",
       "\tfont-family: 'Shippori+Mincho'; \n",
       "\tfont-size:1.1em;\n",
       "\tcolor: DarkSlateGray;\n",
       "}\n",
       "\n",
       "div.input_area {\n",
       "\tborder:none !important;\n",
       "\tborder-left:1px solid #ff851b !important\n",
       "}\n",
       "\n",
       "span.cm-keyword {\n",
       "\tcolor:#339966 !important;\n",
       "}\n",
       "span.nn {  /*span.cm-variable, span.cm-property*/\n",
       "\tcolor: #3399ff !important;\n",
       "}\n",
       "\n",
       "\n",
       "div.CodeMirror {\n",
       "\tfont-family: 'Inconsolata', monospace;\n",
       "\tfont-size: 1.1em;\n",
       "\t\n",
       "}\n",
       "</style>"
      ],
      "text/plain": [
       "<IPython.core.display.HTML object>"
      ]
     },
     "execution_count": 2,
     "metadata": {},
     "output_type": "execute_result"
    }
   ],
=======
   "execution_count": null,
   "id": "28046c30",
   "metadata": {},
   "outputs": [],
>>>>>>> parent of 1ed1bc3 (ed):gender statistics.ipynb
=======
   "execution_count": null,
   "id": "28046c30",
   "metadata": {},
   "outputs": [],
>>>>>>> parent of 1ed1bc3 (ed):gender statistics.ipynb
   "source": [
    "import gender_guesser.detector as gender\n",
    "import dhlab.module_update as mu\n",
    "import dhlab.nbtext as nb\n",
    "import requests\n",
    "import pandas as pd\n",
    "import json\n",
    "from collections import Counter\n",
    "mu.update(\"wordbank\")\n",
    "import wordbank as wb\n",
    "mu.css()"
   ]
  },
  {
   "cell_type": "code",
<<<<<<< HEAD:.ipynb_checkpoints/gender statistics-Copy1-checkpoint.ipynb
<<<<<<< HEAD:.ipynb_checkpoints/gender statistics-Copy1-checkpoint.ipynb
   "execution_count": 28,
   "metadata": {},
   "outputs": [
    {
     "data": {
      "text/html": [
       "<style>\n",
       "p {font-size:1.5em}\n",
       "</style>\n"
      ],
      "text/plain": [
       "<IPython.core.display.HTML object>"
      ]
     },
     "metadata": {},
     "output_type": "display_data"
    }
   ],
   "source": [
    "%%HTML\n",
    "<style>\n",
    "p {font-size:1.5em}\n",
    "</style>"
   ]
  },
  {
   "cell_type": "code",
   "execution_count": 3,
=======
   "execution_count": null,
   "id": "27be4edd",
>>>>>>> parent of 1ed1bc3 (ed):gender statistics.ipynb
=======
   "execution_count": null,
   "id": "27be4edd",
>>>>>>> parent of 1ed1bc3 (ed):gender statistics.ipynb
   "metadata": {},
   "outputs": [],
   "source": [
    "detect = gender.Detector()"
   ]
  },
  {
   "cell_type": "markdown",
   "id": "8ba84872",
   "metadata": {},
   "source": [
    "## Build a corpus using metadata\n",
    "\n",
    "search using author dewey, subject translation etc."
   ]
  },
  {
   "cell_type": "code",
<<<<<<< HEAD:.ipynb_checkpoints/gender statistics-Copy1-checkpoint.ipynb
<<<<<<< HEAD:.ipynb_checkpoints/gender statistics-Copy1-checkpoint.ipynb
   "execution_count": 4,
   "metadata": {},
   "outputs": [
    {
     "data": {
      "text/html": [
       "<div>\n",
       "<style scoped>\n",
       "    .dataframe tbody tr th:only-of-type {\n",
       "        vertical-align: middle;\n",
       "    }\n",
       "\n",
       "    .dataframe tbody tr th {\n",
       "        vertical-align: top;\n",
       "    }\n",
       "\n",
       "    .dataframe thead th {\n",
       "        text-align: right;\n",
       "    }\n",
       "</style>\n",
       "<table border=\"1\" class=\"dataframe\">\n",
       "  <thead>\n",
       "    <tr style=\"text-align: right;\">\n",
       "      <th></th>\n",
       "      <th>urn</th>\n",
       "      <th>author</th>\n",
       "      <th>title</th>\n",
       "      <th>year</th>\n",
       "    </tr>\n",
       "  </thead>\n",
       "  <tbody>\n",
       "    <tr>\n",
       "      <th>0</th>\n",
       "      <td>2014013105041</td>\n",
       "      <td>Knausgård, Karl Ove</td>\n",
       "      <td>Min kamp</td>\n",
       "      <td>2009</td>\n",
       "    </tr>\n",
       "    <tr>\n",
       "      <th>1</th>\n",
       "      <td>2013091306040</td>\n",
       "      <td>Knausgård, Karl Ove</td>\n",
       "      <td>Min kamp</td>\n",
       "      <td>2009</td>\n",
       "    </tr>\n",
       "    <tr>\n",
       "      <th>2</th>\n",
       "      <td>2012111508072</td>\n",
       "      <td>Knausgård, Karl Ove</td>\n",
       "      <td>Min kamp</td>\n",
       "      <td>2011</td>\n",
       "    </tr>\n",
       "    <tr>\n",
       "      <th>3</th>\n",
       "      <td>2011070805095</td>\n",
       "      <td>Knausgård, Karl Ove</td>\n",
       "      <td>tid for alt</td>\n",
       "      <td>2004</td>\n",
       "    </tr>\n",
       "    <tr>\n",
       "      <th>4</th>\n",
       "      <td>2011090606104</td>\n",
       "      <td>Knausgård, Karl Ove</td>\n",
       "      <td>Ute av verden</td>\n",
       "      <td>2005</td>\n",
       "    </tr>\n",
       "    <tr>\n",
       "      <th>5</th>\n",
       "      <td>2012052905085</td>\n",
       "      <td>Knausgård, Karl Ove</td>\n",
       "      <td>Ute av verden</td>\n",
       "      <td>2006</td>\n",
       "    </tr>\n",
       "    <tr>\n",
       "      <th>6</th>\n",
       "      <td>2012111508022</td>\n",
       "      <td>Knausgård, Karl Ove</td>\n",
       "      <td>Min kamp</td>\n",
       "      <td>2011</td>\n",
       "    </tr>\n",
       "    <tr>\n",
       "      <th>7</th>\n",
       "      <td>2014090438009</td>\n",
       "      <td>Knausgård, Karl Ove</td>\n",
       "      <td>tid for alt</td>\n",
       "      <td>2005</td>\n",
       "    </tr>\n",
       "    <tr>\n",
       "      <th>8</th>\n",
       "      <td>2014100308011</td>\n",
       "      <td>Knausgård, Karl Ove</td>\n",
       "      <td>Min kamp</td>\n",
       "      <td>2011</td>\n",
       "    </tr>\n",
       "    <tr>\n",
       "      <th>9</th>\n",
       "      <td>2008092300152</td>\n",
       "      <td>Knausgård, Karl Ove</td>\n",
       "      <td>Ute av verden</td>\n",
       "      <td>1998</td>\n",
       "    </tr>\n",
       "    <tr>\n",
       "      <th>10</th>\n",
       "      <td>2013102906036</td>\n",
       "      <td>Knausgård, Karl Ove</td>\n",
       "      <td>Min kamp</td>\n",
       "      <td>2010</td>\n",
       "    </tr>\n",
       "    <tr>\n",
       "      <th>11</th>\n",
       "      <td>2013082806088</td>\n",
       "      <td>Knausgård, Karl Ove</td>\n",
       "      <td>Min kamp</td>\n",
       "      <td>2010</td>\n",
       "    </tr>\n",
       "    <tr>\n",
       "      <th>12</th>\n",
       "      <td>2012112638153</td>\n",
       "      <td>Knausgård, Karl Ove</td>\n",
       "      <td>Min kamp</td>\n",
       "      <td>2011</td>\n",
       "    </tr>\n",
       "    <tr>\n",
       "      <th>13</th>\n",
       "      <td>2008091001001</td>\n",
       "      <td>Knausgård, Karl Ove</td>\n",
       "      <td>Ute av verden</td>\n",
       "      <td>1999</td>\n",
       "    </tr>\n",
       "    <tr>\n",
       "      <th>14</th>\n",
       "      <td>2014120108004</td>\n",
       "      <td>Knausgård, Karl Ove</td>\n",
       "      <td>Ute av verden</td>\n",
       "      <td>2002</td>\n",
       "    </tr>\n",
       "  </tbody>\n",
       "</table>\n",
       "</div>"
      ],
      "text/plain": [
       "              urn               author          title  year\n",
       "0   2014013105041  Knausgård, Karl Ove       Min kamp  2009\n",
       "1   2013091306040  Knausgård, Karl Ove       Min kamp  2009\n",
       "2   2012111508072  Knausgård, Karl Ove       Min kamp  2011\n",
       "3   2011070805095  Knausgård, Karl Ove    tid for alt  2004\n",
       "4   2011090606104  Knausgård, Karl Ove  Ute av verden  2005\n",
       "5   2012052905085  Knausgård, Karl Ove  Ute av verden  2006\n",
       "6   2012111508022  Knausgård, Karl Ove       Min kamp  2011\n",
       "7   2014090438009  Knausgård, Karl Ove    tid for alt  2005\n",
       "8   2014100308011  Knausgård, Karl Ove       Min kamp  2011\n",
       "9   2008092300152  Knausgård, Karl Ove  Ute av verden  1998\n",
       "10  2013102906036  Knausgård, Karl Ove       Min kamp  2010\n",
       "11  2013082806088  Knausgård, Karl Ove       Min kamp  2010\n",
       "12  2012112638153  Knausgård, Karl Ove       Min kamp  2011\n",
       "13  2008091001001  Knausgård, Karl Ove  Ute av verden  1999\n",
       "14  2014120108004  Knausgård, Karl Ove  Ute av verden  2002"
      ]
     },
     "execution_count": 4,
     "metadata": {},
     "output_type": "execute_result"
    }
   ],
=======
   "execution_count": null,
   "id": "45738820",
   "metadata": {},
   "outputs": [],
>>>>>>> parent of 1ed1bc3 (ed):gender statistics.ipynb
=======
   "execution_count": null,
   "id": "45738820",
   "metadata": {},
   "outputs": [],
>>>>>>> parent of 1ed1bc3 (ed):gender statistics.ipynb
   "source": [
    "nb.book_corpus(author=\"knaus%karl%\")"
   ]
  },
  {
   "cell_type": "markdown",
   "id": "e8db25bb",
   "metadata": {},
   "source": [
    "### Look up metadata for `2012112638153`"
   ]
  },
  {
   "cell_type": "code",
<<<<<<< HEAD:.ipynb_checkpoints/gender statistics-Copy1-checkpoint.ipynb
<<<<<<< HEAD:.ipynb_checkpoints/gender statistics-Copy1-checkpoint.ipynb
   "execution_count": 5,
   "metadata": {},
   "outputs": [
    {
     "data": {
      "text/plain": [
       "[[2012112638153,\n",
       "  'Knausgård, Karl Ove',\n",
       "  2011,\n",
       "  'Min kamp',\n",
       "  'roman',\n",
       "  'Oktober;Oslo : Oktober, 2009-2011',\n",
       "  'novel',\n",
       "  'bf0b43404b0670299aa63f1d7897b268',\n",
       "  'nob',\n",
       "  '']]"
      ]
     },
     "execution_count": 5,
     "metadata": {},
     "output_type": "execute_result"
    }
   ],
=======
   "execution_count": null,
   "id": "2389b4b5",
   "metadata": {},
   "outputs": [],
>>>>>>> parent of 1ed1bc3 (ed):gender statistics.ipynb
=======
   "execution_count": null,
   "id": "2389b4b5",
   "metadata": {},
   "outputs": [],
>>>>>>> parent of 1ed1bc3 (ed):gender statistics.ipynb
   "source": [
    "nb.metadata(2012112638153)"
   ]
  },
  {
   "cell_type": "markdown",
   "id": "32668843",
   "metadata": {},
   "source": [
    "### Collect the frequency for this book"
   ]
  },
  {
   "cell_type": "code",
<<<<<<< HEAD:.ipynb_checkpoints/gender statistics-Copy1-checkpoint.ipynb
<<<<<<< HEAD:.ipynb_checkpoints/gender statistics-Copy1-checkpoint.ipynb
   "execution_count": 6,
   "metadata": {},
   "outputs": [
    {
     "data": {
      "text/html": [
       "<div>\n",
       "<style scoped>\n",
       "    .dataframe tbody tr th:only-of-type {\n",
       "        vertical-align: middle;\n",
       "    }\n",
       "\n",
       "    .dataframe tbody tr th {\n",
       "        vertical-align: top;\n",
       "    }\n",
       "\n",
       "    .dataframe thead th {\n",
       "        text-align: right;\n",
       "    }\n",
       "</style>\n",
       "<table border=\"1\" class=\"dataframe\">\n",
       "  <thead>\n",
       "    <tr style=\"text-align: right;\">\n",
       "      <th></th>\n",
       "      <th>0</th>\n",
       "    </tr>\n",
       "  </thead>\n",
       "  <tbody>\n",
       "    <tr>\n",
       "      <th>,</th>\n",
       "      <td>37246</td>\n",
       "    </tr>\n",
       "    <tr>\n",
       "      <th>.</th>\n",
       "      <td>21018</td>\n",
       "    </tr>\n",
       "    <tr>\n",
       "      <th>det</th>\n",
       "      <td>15460</td>\n",
       "    </tr>\n",
       "    <tr>\n",
       "      <th>og</th>\n",
       "      <td>15363</td>\n",
       "    </tr>\n",
       "    <tr>\n",
       "      <th>i</th>\n",
       "      <td>9999</td>\n",
       "    </tr>\n",
       "    <tr>\n",
       "      <th>som</th>\n",
       "      <td>9011</td>\n",
       "    </tr>\n",
       "    <tr>\n",
       "      <th>jeg</th>\n",
       "      <td>8107</td>\n",
       "    </tr>\n",
       "    <tr>\n",
       "      <th>var</th>\n",
       "      <td>7246</td>\n",
       "    </tr>\n",
       "    <tr>\n",
       "      <th>er</th>\n",
       "      <td>6598</td>\n",
       "    </tr>\n",
       "    <tr>\n",
       "      <th>på</th>\n",
       "      <td>6577</td>\n",
       "    </tr>\n",
       "    <tr>\n",
       "      <th>en</th>\n",
       "      <td>6360</td>\n",
       "    </tr>\n",
       "    <tr>\n",
       "      <th>ikke</th>\n",
       "      <td>6088</td>\n",
       "    </tr>\n",
       "    <tr>\n",
       "      <th>den</th>\n",
       "      <td>5704</td>\n",
       "    </tr>\n",
       "    <tr>\n",
       "      <th>av</th>\n",
       "      <td>5149</td>\n",
       "    </tr>\n",
       "    <tr>\n",
       "      <th>til</th>\n",
       "      <td>4894</td>\n",
       "    </tr>\n",
       "    <tr>\n",
       "      <th>-</th>\n",
       "      <td>4869</td>\n",
       "    </tr>\n",
       "    <tr>\n",
       "      <th>å</th>\n",
       "      <td>4544</td>\n",
       "    </tr>\n",
       "    <tr>\n",
       "      <th>at</th>\n",
       "      <td>4387</td>\n",
       "    </tr>\n",
       "    <tr>\n",
       "      <th>med</th>\n",
       "      <td>4155</td>\n",
       "    </tr>\n",
       "    <tr>\n",
       "      <th>hadde</th>\n",
       "      <td>4138</td>\n",
       "    </tr>\n",
       "  </tbody>\n",
       "</table>\n",
       "</div>"
      ],
      "text/plain": [
       "           0\n",
       ",      37246\n",
       ".      21018\n",
       "det    15460\n",
       "og     15363\n",
       "i       9999\n",
       "som     9011\n",
       "jeg     8107\n",
       "var     7246\n",
       "er      6598\n",
       "på      6577\n",
       "en      6360\n",
       "ikke    6088\n",
       "den     5704\n",
       "av      5149\n",
       "til     4894\n",
       "-       4869\n",
       "å       4544\n",
       "at      4387\n",
       "med     4155\n",
       "hadde   4138"
      ]
     },
     "execution_count": 6,
     "metadata": {},
     "output_type": "execute_result"
    }
   ],
=======
   "execution_count": null,
   "id": "b69ab78c",
   "metadata": {},
   "outputs": [],
>>>>>>> parent of 1ed1bc3 (ed):gender statistics.ipynb
=======
   "execution_count": null,
   "id": "b69ab78c",
   "metadata": {},
   "outputs": [],
>>>>>>> parent of 1ed1bc3 (ed):gender statistics.ipynb
   "source": [
    "book = nb.frame(nb.get_freq(2012112638153, top=0, cutoff=0))\n",
    "book.head(20)"
   ]
  },
  {
   "cell_type": "markdown",
   "id": "9c5342bf",
   "metadata": {},
   "source": [
    "### Initial gender distribution with pronouns\n",
    "\n",
    "Her with the accusative forms - most frequent"
   ]
  },
  {
   "cell_type": "code",
<<<<<<< HEAD:.ipynb_checkpoints/gender statistics-Copy1-checkpoint.ipynb
<<<<<<< HEAD:.ipynb_checkpoints/gender statistics-Copy1-checkpoint.ipynb
   "execution_count": 7,
   "metadata": {},
   "outputs": [
    {
     "data": {
      "text/html": [
       "<div>\n",
       "<style scoped>\n",
       "    .dataframe tbody tr th:only-of-type {\n",
       "        vertical-align: middle;\n",
       "    }\n",
       "\n",
       "    .dataframe tbody tr th {\n",
       "        vertical-align: top;\n",
       "    }\n",
       "\n",
       "    .dataframe thead th {\n",
       "        text-align: right;\n",
       "    }\n",
       "</style>\n",
       "<table border=\"1\" class=\"dataframe\">\n",
       "  <thead>\n",
       "    <tr style=\"text-align: right;\">\n",
       "      <th></th>\n",
       "      <th>0</th>\n",
       "    </tr>\n",
       "  </thead>\n",
       "  <tbody>\n",
       "    <tr>\n",
       "      <th>han</th>\n",
       "      <td>3768</td>\n",
       "    </tr>\n",
       "    <tr>\n",
       "      <th>hun</th>\n",
       "      <td>2373</td>\n",
       "    </tr>\n",
       "  </tbody>\n",
       "</table>\n",
       "</div>"
      ],
      "text/plain": [
       "        0\n",
       "han  3768\n",
       "hun  2373"
      ]
     },
     "execution_count": 7,
     "metadata": {},
     "output_type": "execute_result"
    }
   ],
=======
   "execution_count": null,
   "id": "bd59a768",
   "metadata": {},
   "outputs": [],
>>>>>>> parent of 1ed1bc3 (ed):gender statistics.ipynb
=======
   "execution_count": null,
   "id": "bd59a768",
   "metadata": {},
   "outputs": [],
>>>>>>> parent of 1ed1bc3 (ed):gender statistics.ipynb
   "source": [
    "book.loc[['han', 'hun']]"
   ]
  },
  {
   "cell_type": "markdown",
   "id": "df2d2bb7",
   "metadata": {},
   "source": [
    "### Find words with capital letters\n",
    "\n",
    "Heuristics for a name candidate:\n",
    "\n",
    "1. Starts with a capital letter\n",
    "1. Only first letter is capital\n",
    "1. It won't occur without a capital letter"
   ]
  },
  {
   "cell_type": "code",
<<<<<<< HEAD:.ipynb_checkpoints/gender statistics-Copy1-checkpoint.ipynb
<<<<<<< HEAD:.ipynb_checkpoints/gender statistics-Copy1-checkpoint.ipynb
   "execution_count": 8,
=======
   "execution_count": null,
   "id": "6c0f0722",
>>>>>>> parent of 1ed1bc3 (ed):gender statistics.ipynb
=======
   "execution_count": null,
   "id": "6c0f0722",
>>>>>>> parent of 1ed1bc3 (ed):gender statistics.ipynb
   "metadata": {},
   "outputs": [],
   "source": [
    "capitals = [x for x in book.index \n",
    "            if x.upper()[0] == x[0] \n",
    "            and x.upper() != x \n",
    "            and x.isalpha() \n",
    "            and not x.lower() in book.index]"
   ]
  },
  {
   "cell_type": "markdown",
   "id": "c49a46f1",
   "metadata": {},
   "source": [
    "### Take a quick look at wordbank"
   ]
  },
  {
   "cell_type": "code",
<<<<<<< HEAD:.ipynb_checkpoints/gender statistics-Copy1-checkpoint.ipynb
<<<<<<< HEAD:.ipynb_checkpoints/gender statistics-Copy1-checkpoint.ipynb
   "execution_count": 9,
   "metadata": {},
   "outputs": [
    {
     "data": {
      "text/plain": [
       "[['Herren', 'subst prop normert'],\n",
       " ['Vårherre', 'subst prop normert'],\n",
       " ['Østen', 'subst nøyt prop normert'],\n",
       " ['Østen', 'subst prop normert'],\n",
       " ['Mosebøkene', 'subst fem appell fl be normert'],\n",
       " ['Mosebøkene', 'subst mask appell fl be normert'],\n",
       " ['Pascal', 'subst prop normert'],\n",
       " ['Ola', 'subst mask prop normert'],\n",
       " ['Na', 'symb subst normert'],\n",
       " ['Moseloven', 'subst mask prop normert'],\n",
       " ['Mosebok', 'subst fem appell ent ub normert'],\n",
       " ['Mosebok', 'subst mask appell ent ub normert'],\n",
       " ['Kr', 'symb subst normert'],\n",
       " ['Au', 'symb subst normert']]"
      ]
     },
     "execution_count": 9,
     "metadata": {},
     "output_type": "execute_result"
    }
   ],
=======
   "execution_count": null,
   "id": "022d2c19",
   "metadata": {},
   "outputs": [],
>>>>>>> parent of 1ed1bc3 (ed):gender statistics.ipynb
=======
   "execution_count": null,
   "id": "022d2c19",
   "metadata": {},
   "outputs": [],
>>>>>>> parent of 1ed1bc3 (ed):gender statistics.ipynb
   "source": [
    "wb.word_form_many(capitals)"
   ]
  },
  {
   "cell_type": "code",
<<<<<<< HEAD:.ipynb_checkpoints/gender statistics-Copy1-checkpoint.ipynb
<<<<<<< HEAD:.ipynb_checkpoints/gender statistics-Copy1-checkpoint.ipynb
   "execution_count": 10,
   "metadata": {},
   "outputs": [
    {
     "data": {
      "text/plain": [
       "[['Per', 'subst mask appell ent ub normert'],\n",
       " ['Per', 'subst mask prop normert'],\n",
       " ['bjørn', 'subst mask appell ent ub normert']]"
      ]
     },
     "execution_count": 10,
     "metadata": {},
     "output_type": "execute_result"
    }
   ],
=======
   "execution_count": null,
   "id": "e64b12e1",
   "metadata": {},
   "outputs": [],
>>>>>>> parent of 1ed1bc3 (ed):gender statistics.ipynb
=======
   "execution_count": null,
   "id": "e64b12e1",
   "metadata": {},
   "outputs": [],
>>>>>>> parent of 1ed1bc3 (ed):gender statistics.ipynb
   "source": [
    "wb.word_form_many(['Ask', \"Per\", \"Lars\", \"Bjørn\", \"bjørn\"])"
   ]
  },
  {
   "cell_type": "markdown",
   "id": "f30028f4",
   "metadata": {},
   "source": [
    "### Collect gender data for words in the book"
   ]
  },
  {
   "cell_type": "code",
<<<<<<< HEAD:.ipynb_checkpoints/gender statistics-Copy1-checkpoint.ipynb
<<<<<<< HEAD:.ipynb_checkpoints/gender statistics-Copy1-checkpoint.ipynb
   "execution_count": 11,
=======
   "execution_count": null,
   "id": "733fd2d3",
>>>>>>> parent of 1ed1bc3 (ed):gender statistics.ipynb
=======
   "execution_count": null,
   "id": "733fd2d3",
>>>>>>> parent of 1ed1bc3 (ed):gender statistics.ipynb
   "metadata": {},
   "outputs": [],
   "source": [
    "gender_data = [(c, detect.get_gender(c)) for c in capitals]"
   ]
  },
  {
   "cell_type": "code",
<<<<<<< HEAD:.ipynb_checkpoints/gender statistics-Copy1-checkpoint.ipynb
<<<<<<< HEAD:.ipynb_checkpoints/gender statistics-Copy1-checkpoint.ipynb
   "execution_count": 12,
   "metadata": {},
   "outputs": [
    {
     "data": {
      "text/html": [
       "<div>\n",
       "<style scoped>\n",
       "    .dataframe tbody tr th:only-of-type {\n",
       "        vertical-align: middle;\n",
       "    }\n",
       "\n",
       "    .dataframe tbody tr th {\n",
       "        vertical-align: top;\n",
       "    }\n",
       "\n",
       "    .dataframe thead th {\n",
       "        text-align: right;\n",
       "    }\n",
       "</style>\n",
       "<table border=\"1\" class=\"dataframe\">\n",
       "  <thead>\n",
       "    <tr style=\"text-align: right;\">\n",
       "      <th></th>\n",
       "      <th>gender</th>\n",
       "    </tr>\n",
       "    <tr>\n",
       "      <th>name</th>\n",
       "      <th></th>\n",
       "    </tr>\n",
       "  </thead>\n",
       "  <tbody>\n",
       "    <tr>\n",
       "      <th>Linda</th>\n",
       "      <td>female</td>\n",
       "    </tr>\n",
       "    <tr>\n",
       "      <th>Hitler</th>\n",
       "      <td>unknown</td>\n",
       "    </tr>\n",
       "    <tr>\n",
       "      <th>Vanja</th>\n",
       "      <td>andy</td>\n",
       "    </tr>\n",
       "    <tr>\n",
       "      <th>Heidi</th>\n",
       "      <td>female</td>\n",
       "    </tr>\n",
       "    <tr>\n",
       "      <th>Geir</th>\n",
       "      <td>male</td>\n",
       "    </tr>\n",
       "    <tr>\n",
       "      <th>John</th>\n",
       "      <td>male</td>\n",
       "    </tr>\n",
       "    <tr>\n",
       "      <th>Kubizek</th>\n",
       "      <td>unknown</td>\n",
       "    </tr>\n",
       "    <tr>\n",
       "      <th>Hitlers</th>\n",
       "      <td>unknown</td>\n",
       "    </tr>\n",
       "    <tr>\n",
       "      <th>Njaal</th>\n",
       "      <td>unknown</td>\n",
       "    </tr>\n",
       "    <tr>\n",
       "      <th>Gunnar</th>\n",
       "      <td>male</td>\n",
       "    </tr>\n",
       "    <tr>\n",
       "      <th>Yngve</th>\n",
       "      <td>male</td>\n",
       "    </tr>\n",
       "    <tr>\n",
       "      <th>Wien</th>\n",
       "      <td>unknown</td>\n",
       "    </tr>\n",
       "    <tr>\n",
       "      <th>Christina</th>\n",
       "      <td>female</td>\n",
       "    </tr>\n",
       "    <tr>\n",
       "      <th>Tyskland</th>\n",
       "      <td>unknown</td>\n",
       "    </tr>\n",
       "    <tr>\n",
       "      <th>Malmo</th>\n",
       "      <td>unknown</td>\n",
       "    </tr>\n",
       "    <tr>\n",
       "      <th>Karl</th>\n",
       "      <td>male</td>\n",
       "    </tr>\n",
       "    <tr>\n",
       "      <th>Adolf</th>\n",
       "      <td>male</td>\n",
       "    </tr>\n",
       "    <tr>\n",
       "      <th>Hanfstaengl</th>\n",
       "      <td>unknown</td>\n",
       "    </tr>\n",
       "    <tr>\n",
       "      <th>Ingrid</th>\n",
       "      <td>female</td>\n",
       "    </tr>\n",
       "    <tr>\n",
       "      <th>Thomas</th>\n",
       "      <td>male</td>\n",
       "    </tr>\n",
       "    <tr>\n",
       "      <th>Stockholm</th>\n",
       "      <td>unknown</td>\n",
       "    </tr>\n",
       "    <tr>\n",
       "      <th>Linz</th>\n",
       "      <td>unknown</td>\n",
       "    </tr>\n",
       "    <tr>\n",
       "      <th>Lindas</th>\n",
       "      <td>unknown</td>\n",
       "    </tr>\n",
       "    <tr>\n",
       "      <th>Tore</th>\n",
       "      <td>male</td>\n",
       "    </tr>\n",
       "    <tr>\n",
       "      <th>Hamlet</th>\n",
       "      <td>male</td>\n",
       "    </tr>\n",
       "    <tr>\n",
       "      <th>Hamsun</th>\n",
       "      <td>unknown</td>\n",
       "    </tr>\n",
       "    <tr>\n",
       "      <th>Kubizeks</th>\n",
       "      <td>unknown</td>\n",
       "    </tr>\n",
       "    <tr>\n",
       "      <th>Sverige</th>\n",
       "      <td>unknown</td>\n",
       "    </tr>\n",
       "    <tr>\n",
       "      <th>Moses</th>\n",
       "      <td>male</td>\n",
       "    </tr>\n",
       "    <tr>\n",
       "      <th>Klemperer</th>\n",
       "      <td>unknown</td>\n",
       "    </tr>\n",
       "  </tbody>\n",
       "</table>\n",
       "</div>"
      ],
      "text/plain": [
       "              gender\n",
       "name                \n",
       "Linda         female\n",
       "Hitler       unknown\n",
       "Vanja           andy\n",
       "Heidi         female\n",
       "Geir            male\n",
       "John            male\n",
       "Kubizek      unknown\n",
       "Hitlers      unknown\n",
       "Njaal        unknown\n",
       "Gunnar          male\n",
       "Yngve           male\n",
       "Wien         unknown\n",
       "Christina     female\n",
       "Tyskland     unknown\n",
       "Malmo        unknown\n",
       "Karl            male\n",
       "Adolf           male\n",
       "Hanfstaengl  unknown\n",
       "Ingrid        female\n",
       "Thomas          male\n",
       "Stockholm    unknown\n",
       "Linz         unknown\n",
       "Lindas       unknown\n",
       "Tore            male\n",
       "Hamlet          male\n",
       "Hamsun       unknown\n",
       "Kubizeks     unknown\n",
       "Sverige      unknown\n",
       "Moses           male\n",
       "Klemperer    unknown"
      ]
     },
     "execution_count": 12,
     "metadata": {},
     "output_type": "execute_result"
    }
   ],
=======
   "execution_count": null,
   "id": "fe130c86",
   "metadata": {},
   "outputs": [],
>>>>>>> parent of 1ed1bc3 (ed):gender statistics.ipynb
=======
   "execution_count": null,
   "id": "fe130c86",
   "metadata": {},
   "outputs": [],
>>>>>>> parent of 1ed1bc3 (ed):gender statistics.ipynb
   "source": [
    "gf = pd.DataFrame(gender_data, columns = ['name', 'gender']).set_index('name')\n",
    "gf.head(30)"
   ]
  },
  {
   "cell_type": "markdown",
   "id": "2c3e55e2",
   "metadata": {},
   "source": [
    "### Count the different males"
   ]
  },
  {
   "cell_type": "code",
<<<<<<< HEAD:.ipynb_checkpoints/gender statistics-Copy1-checkpoint.ipynb
<<<<<<< HEAD:.ipynb_checkpoints/gender statistics-Copy1-checkpoint.ipynb
   "execution_count": 13,
   "metadata": {},
   "outputs": [
    {
     "data": {
      "text/plain": [
       "gender    138\n",
       "dtype: int64"
      ]
     },
     "execution_count": 13,
     "metadata": {},
     "output_type": "execute_result"
    }
   ],
=======
   "execution_count": null,
   "id": "a4049718",
   "metadata": {},
   "outputs": [],
>>>>>>> parent of 1ed1bc3 (ed):gender statistics.ipynb
=======
   "execution_count": null,
   "id": "a4049718",
   "metadata": {},
   "outputs": [],
>>>>>>> parent of 1ed1bc3 (ed):gender statistics.ipynb
   "source": [
    "gf[gf['gender'] == 'female'].count()"
   ]
  },
  {
   "cell_type": "code",
<<<<<<< HEAD:.ipynb_checkpoints/gender statistics-Copy1-checkpoint.ipynb
<<<<<<< HEAD:.ipynb_checkpoints/gender statistics-Copy1-checkpoint.ipynb
   "execution_count": 14,
   "metadata": {},
   "outputs": [
    {
     "data": {
      "text/plain": [
       "gender    303\n",
       "dtype: int64"
      ]
     },
     "execution_count": 14,
     "metadata": {},
     "output_type": "execute_result"
    }
   ],
=======
   "execution_count": null,
   "id": "16e15e88",
   "metadata": {},
   "outputs": [],
>>>>>>> parent of 1ed1bc3 (ed):gender statistics.ipynb
=======
   "execution_count": null,
   "id": "16e15e88",
   "metadata": {},
   "outputs": [],
>>>>>>> parent of 1ed1bc3 (ed):gender statistics.ipynb
   "source": [
    "gf[gf['gender'] == 'male'].count()"
   ]
  },
  {
   "cell_type": "markdown",
   "id": "b4c0d599",
   "metadata": {},
   "source": [
    "### Find names"
   ]
  },
  {
   "cell_type": "code",
<<<<<<< HEAD:.ipynb_checkpoints/gender statistics-Copy1-checkpoint.ipynb
   "execution_count": 15,
=======
   "execution_count": null,
   "id": "f5b687fa",
<<<<<<< HEAD:.ipynb_checkpoints/gender statistics-Copy1-checkpoint.ipynb
>>>>>>> parent of 1ed1bc3 (ed):gender statistics.ipynb
=======
>>>>>>> parent of 1ed1bc3 (ed):gender statistics.ipynb
   "metadata": {},
   "outputs": [
    {
     "data": {
      "text/html": [
       "<div>\n",
       "<style scoped>\n",
       "    .dataframe tbody tr th:only-of-type {\n",
       "        vertical-align: middle;\n",
       "    }\n",
       "\n",
       "    .dataframe tbody tr th {\n",
       "        vertical-align: top;\n",
       "    }\n",
       "\n",
       "    .dataframe thead th {\n",
       "        text-align: right;\n",
       "    }\n",
       "</style>\n",
       "<table border=\"1\" class=\"dataframe\">\n",
       "  <thead>\n",
       "    <tr style=\"text-align: right;\">\n",
       "      <th></th>\n",
       "      <th>gender</th>\n",
       "    </tr>\n",
       "    <tr>\n",
       "      <th>name</th>\n",
       "      <th></th>\n",
       "    </tr>\n",
       "  </thead>\n",
       "  <tbody>\n",
       "    <tr>\n",
       "      <th>Geir</th>\n",
       "      <td>male</td>\n",
       "    </tr>\n",
       "    <tr>\n",
       "      <th>John</th>\n",
       "      <td>male</td>\n",
       "    </tr>\n",
       "    <tr>\n",
       "      <th>Gunnar</th>\n",
       "      <td>male</td>\n",
       "    </tr>\n",
       "    <tr>\n",
       "      <th>Yngve</th>\n",
       "      <td>male</td>\n",
       "    </tr>\n",
       "    <tr>\n",
       "      <th>Karl</th>\n",
       "      <td>male</td>\n",
       "    </tr>\n",
       "    <tr>\n",
       "      <th>Adolf</th>\n",
       "      <td>male</td>\n",
       "    </tr>\n",
       "    <tr>\n",
       "      <th>Thomas</th>\n",
       "      <td>male</td>\n",
       "    </tr>\n",
       "    <tr>\n",
       "      <th>Tore</th>\n",
       "      <td>male</td>\n",
       "    </tr>\n",
       "    <tr>\n",
       "      <th>Hamlet</th>\n",
       "      <td>male</td>\n",
       "    </tr>\n",
       "    <tr>\n",
       "      <th>Moses</th>\n",
       "      <td>male</td>\n",
       "    </tr>\n",
       "    <tr>\n",
       "      <th>Stephen</th>\n",
       "      <td>male</td>\n",
       "    </tr>\n",
       "    <tr>\n",
       "      <th>Jan</th>\n",
       "      <td>male</td>\n",
       "    </tr>\n",
       "    <tr>\n",
       "      <th>Paul</th>\n",
       "      <td>male</td>\n",
       "    </tr>\n",
       "    <tr>\n",
       "      <th>Vidar</th>\n",
       "      <td>male</td>\n",
       "    </tr>\n",
       "    <tr>\n",
       "      <th>Asbjørn</th>\n",
       "      <td>male</td>\n",
       "    </tr>\n",
       "    <tr>\n",
       "      <th>Mathias</th>\n",
       "      <td>male</td>\n",
       "    </tr>\n",
       "    <tr>\n",
       "      <th>Ulysses</th>\n",
       "      <td>male</td>\n",
       "    </tr>\n",
       "    <tr>\n",
       "      <th>Abel</th>\n",
       "      <td>male</td>\n",
       "    </tr>\n",
       "    <tr>\n",
       "      <th>Don</th>\n",
       "      <td>male</td>\n",
       "    </tr>\n",
       "    <tr>\n",
       "      <th>Axel</th>\n",
       "      <td>male</td>\n",
       "    </tr>\n",
       "  </tbody>\n",
       "</table>\n",
       "</div>"
      ],
      "text/plain": [
       "        gender\n",
       "name          \n",
       "Geir      male\n",
       "John      male\n",
       "Gunnar    male\n",
       "Yngve     male\n",
       "Karl      male\n",
       "Adolf     male\n",
       "Thomas    male\n",
       "Tore      male\n",
       "Hamlet    male\n",
       "Moses     male\n",
       "Stephen   male\n",
       "Jan       male\n",
       "Paul      male\n",
       "Vidar     male\n",
       "Asbjørn   male\n",
       "Mathias   male\n",
       "Ulysses   male\n",
       "Abel      male\n",
       "Don       male\n",
       "Axel      male"
      ]
     },
     "execution_count": 15,
     "metadata": {},
     "output_type": "execute_result"
    }
   ],
   "source": [
    "gf[gf['gender'] == 'male'].head(20)"
   ]
  },
  {
   "cell_type": "markdown",
   "id": "e2177128",
   "metadata": {},
   "source": [
    "### Fetch some numbers\n",
    "\n",
    "Have a look at transfer to variables"
   ]
  },
  {
   "cell_type": "code",
<<<<<<< HEAD:.ipynb_checkpoints/gender statistics-Copy1-checkpoint.ipynb
   "execution_count": 16,
=======
   "execution_count": null,
   "id": "28113bc8",
<<<<<<< HEAD:.ipynb_checkpoints/gender statistics-Copy1-checkpoint.ipynb
>>>>>>> parent of 1ed1bc3 (ed):gender statistics.ipynb
=======
>>>>>>> parent of 1ed1bc3 (ed):gender statistics.ipynb
   "metadata": {},
   "outputs": [
    {
     "data": {
      "text/html": [
       "<div>\n",
       "<style scoped>\n",
       "    .dataframe tbody tr th:only-of-type {\n",
       "        vertical-align: middle;\n",
       "    }\n",
       "\n",
       "    .dataframe tbody tr th {\n",
       "        vertical-align: top;\n",
       "    }\n",
       "\n",
       "    .dataframe thead th {\n",
       "        text-align: right;\n",
       "    }\n",
       "</style>\n",
       "<table border=\"1\" class=\"dataframe\">\n",
       "  <thead>\n",
       "    <tr style=\"text-align: right;\">\n",
       "      <th></th>\n",
       "      <th>0</th>\n",
       "    </tr>\n",
       "  </thead>\n",
       "  <tbody>\n",
       "    <tr>\n",
       "      <th>han</th>\n",
       "      <td>3768</td>\n",
       "    </tr>\n",
       "    <tr>\n",
       "      <th>hun</th>\n",
       "      <td>2373</td>\n",
       "    </tr>\n",
       "    <tr>\n",
       "      <th>jeg</th>\n",
       "      <td>8107</td>\n",
       "    </tr>\n",
       "  </tbody>\n",
       "</table>\n",
       "</div>"
      ],
      "text/plain": [
       "        0\n",
       "han  3768\n",
       "hun  2373\n",
       "jeg  8107"
      ]
     },
     "execution_count": 16,
     "metadata": {},
     "output_type": "execute_result"
    }
   ],
   "source": [
    "book.loc[['han', 'hun', 'jeg']]"
   ]
  },
  {
   "cell_type": "code",
<<<<<<< HEAD:.ipynb_checkpoints/gender statistics-Copy1-checkpoint.ipynb
   "execution_count": 17,
=======
   "execution_count": null,
   "id": "79056552",
<<<<<<< HEAD:.ipynb_checkpoints/gender statistics-Copy1-checkpoint.ipynb
>>>>>>> parent of 1ed1bc3 (ed):gender statistics.ipynb
=======
>>>>>>> parent of 1ed1bc3 (ed):gender statistics.ipynb
   "metadata": {},
   "outputs": [],
   "source": [
    "han = book.loc['han']\n",
    "hun = book.loc['hun']\n",
    "jeg = book.loc['jeg']"
   ]
  },
  {
   "cell_type": "markdown",
   "id": "bc5e1941",
   "metadata": {},
   "source": [
    "### Count the occurrences\n",
    "\n",
    "Each name occurs a couple of times. Here we count how often the different males occur. First. let's have a look at the dataframe of male names, the frequency list. Note possible source of error, first name and last name may count double"
   ]
  },
  {
   "cell_type": "code",
<<<<<<< HEAD:.ipynb_checkpoints/gender statistics-Copy1-checkpoint.ipynb
   "execution_count": 18,
=======
   "execution_count": null,
   "id": "302e0e6f",
<<<<<<< HEAD:.ipynb_checkpoints/gender statistics-Copy1-checkpoint.ipynb
>>>>>>> parent of 1ed1bc3 (ed):gender statistics.ipynb
=======
>>>>>>> parent of 1ed1bc3 (ed):gender statistics.ipynb
   "metadata": {},
   "outputs": [
    {
     "data": {
      "text/html": [
       "<div>\n",
       "<style scoped>\n",
       "    .dataframe tbody tr th:only-of-type {\n",
       "        vertical-align: middle;\n",
       "    }\n",
       "\n",
       "    .dataframe tbody tr th {\n",
       "        vertical-align: top;\n",
       "    }\n",
       "\n",
       "    .dataframe thead th {\n",
       "        text-align: right;\n",
       "    }\n",
       "</style>\n",
       "<table border=\"1\" class=\"dataframe\">\n",
       "  <thead>\n",
       "    <tr style=\"text-align: right;\">\n",
       "      <th></th>\n",
       "      <th>0</th>\n",
       "    </tr>\n",
       "    <tr>\n",
       "      <th>name</th>\n",
       "      <th></th>\n",
       "    </tr>\n",
       "  </thead>\n",
       "  <tbody>\n",
       "    <tr>\n",
       "      <th>Linda</th>\n",
       "      <td>774</td>\n",
       "    </tr>\n",
       "    <tr>\n",
       "      <th>Hitler</th>\n",
       "      <td>604</td>\n",
       "    </tr>\n",
       "    <tr>\n",
       "      <th>Vanja</th>\n",
       "      <td>512</td>\n",
       "    </tr>\n",
       "    <tr>\n",
       "      <th>Heidi</th>\n",
       "      <td>456</td>\n",
       "    </tr>\n",
       "    <tr>\n",
       "      <th>Geir</th>\n",
       "      <td>359</td>\n",
       "    </tr>\n",
       "    <tr>\n",
       "      <th>John</th>\n",
       "      <td>297</td>\n",
       "    </tr>\n",
       "    <tr>\n",
       "      <th>Kubizek</th>\n",
       "      <td>172</td>\n",
       "    </tr>\n",
       "    <tr>\n",
       "      <th>Hitlers</th>\n",
       "      <td>172</td>\n",
       "    </tr>\n",
       "    <tr>\n",
       "      <th>Njaal</th>\n",
       "      <td>124</td>\n",
       "    </tr>\n",
       "    <tr>\n",
       "      <th>Gunnar</th>\n",
       "      <td>123</td>\n",
       "    </tr>\n",
       "    <tr>\n",
       "      <th>Yngve</th>\n",
       "      <td>103</td>\n",
       "    </tr>\n",
       "    <tr>\n",
       "      <th>Wien</th>\n",
       "      <td>99</td>\n",
       "    </tr>\n",
       "    <tr>\n",
       "      <th>Christina</th>\n",
       "      <td>80</td>\n",
       "    </tr>\n",
       "    <tr>\n",
       "      <th>Tyskland</th>\n",
       "      <td>73</td>\n",
       "    </tr>\n",
       "    <tr>\n",
       "      <th>Malmo</th>\n",
       "      <td>72</td>\n",
       "    </tr>\n",
       "    <tr>\n",
       "      <th>Karl</th>\n",
       "      <td>72</td>\n",
       "    </tr>\n",
       "    <tr>\n",
       "      <th>Adolf</th>\n",
       "      <td>72</td>\n",
       "    </tr>\n",
       "    <tr>\n",
       "      <th>Hanfstaengl</th>\n",
       "      <td>59</td>\n",
       "    </tr>\n",
       "    <tr>\n",
       "      <th>Ingrid</th>\n",
       "      <td>50</td>\n",
       "    </tr>\n",
       "    <tr>\n",
       "      <th>Thomas</th>\n",
       "      <td>49</td>\n",
       "    </tr>\n",
       "  </tbody>\n",
       "</table>\n",
       "</div>"
      ],
      "text/plain": [
       "               0\n",
       "name            \n",
       "Linda        774\n",
       "Hitler       604\n",
       "Vanja        512\n",
       "Heidi        456\n",
       "Geir         359\n",
       "John         297\n",
       "Kubizek      172\n",
       "Hitlers      172\n",
       "Njaal        124\n",
       "Gunnar       123\n",
       "Yngve        103\n",
       "Wien          99\n",
       "Christina     80\n",
       "Tyskland      73\n",
       "Malmo         72\n",
       "Karl          72\n",
       "Adolf         72\n",
       "Hanfstaengl   59\n",
       "Ingrid        50\n",
       "Thomas        49"
      ]
     },
     "execution_count": 18,
     "metadata": {},
     "output_type": "execute_result"
    }
   ],
   "source": [
    "book.loc[gf.index].head(20)"
   ]
  },
  {
   "cell_type": "markdown",
   "id": "a0d68efb",
   "metadata": {},
   "source": [
    "### Sum up males and females"
   ]
  },
  {
   "cell_type": "code",
<<<<<<< HEAD:.ipynb_checkpoints/gender statistics-Copy1-checkpoint.ipynb
   "execution_count": 19,
=======
   "execution_count": null,
   "id": "858b1f37",
<<<<<<< HEAD:.ipynb_checkpoints/gender statistics-Copy1-checkpoint.ipynb
>>>>>>> parent of 1ed1bc3 (ed):gender statistics.ipynb
=======
>>>>>>> parent of 1ed1bc3 (ed):gender statistics.ipynb
   "metadata": {},
   "outputs": [
    {
     "data": {
      "text/plain": [
       "0    2151\n",
       "dtype: int64"
      ]
     },
     "execution_count": 19,
     "metadata": {},
     "output_type": "execute_result"
    }
   ],
   "source": [
    "males = book.loc[gf[gf['gender'] == 'male'].index].sum()\n",
    "males"
   ]
  },
  {
   "cell_type": "code",
<<<<<<< HEAD:.ipynb_checkpoints/gender statistics-Copy1-checkpoint.ipynb
   "execution_count": 20,
=======
   "execution_count": null,
   "id": "4e57f4e3",
<<<<<<< HEAD:.ipynb_checkpoints/gender statistics-Copy1-checkpoint.ipynb
>>>>>>> parent of 1ed1bc3 (ed):gender statistics.ipynb
=======
>>>>>>> parent of 1ed1bc3 (ed):gender statistics.ipynb
   "metadata": {},
   "outputs": [
    {
     "data": {
      "text/plain": [
       "0    1777\n",
       "dtype: int64"
      ]
     },
     "execution_count": 20,
     "metadata": {},
     "output_type": "execute_result"
    }
   ],
   "source": [
    "females = book.loc[gf[gf['gender'] == 'female'].index].sum()\n",
    "females"
   ]
  },
  {
   "cell_type": "markdown",
   "id": "06dfc671",
   "metadata": {},
   "source": [
    "### Compare with the pronouns"
   ]
  },
  {
   "cell_type": "code",
<<<<<<< HEAD:.ipynb_checkpoints/gender statistics-Copy1-checkpoint.ipynb
   "execution_count": 21,
=======
   "execution_count": null,
   "id": "8dc5e689",
<<<<<<< HEAD:.ipynb_checkpoints/gender statistics-Copy1-checkpoint.ipynb
>>>>>>> parent of 1ed1bc3 (ed):gender statistics.ipynb
=======
>>>>>>> parent of 1ed1bc3 (ed):gender statistics.ipynb
   "metadata": {},
   "outputs": [
    {
     "data": {
      "text/plain": [
       "0    1.210467\n",
       "dtype: float64"
      ]
     },
     "execution_count": 21,
     "metadata": {},
     "output_type": "execute_result"
    }
   ],
   "source": [
    "males/females"
   ]
  },
  {
   "cell_type": "code",
<<<<<<< HEAD:.ipynb_checkpoints/gender statistics-Copy1-checkpoint.ipynb
   "execution_count": 22,
=======
   "execution_count": null,
   "id": "fbc0a592",
<<<<<<< HEAD:.ipynb_checkpoints/gender statistics-Copy1-checkpoint.ipynb
>>>>>>> parent of 1ed1bc3 (ed):gender statistics.ipynb
=======
>>>>>>> parent of 1ed1bc3 (ed):gender statistics.ipynb
   "metadata": {},
   "outputs": [
    {
     "data": {
      "text/plain": [
       "0    1.587863\n",
       "dtype: float64"
      ]
     },
     "execution_count": 22,
     "metadata": {},
     "output_type": "execute_result"
    }
   ],
   "source": [
    "han/hun"
   ]
  },
  {
   "cell_type": "markdown",
   "id": "40b25fa3",
   "metadata": {},
   "source": [
    "### Greater chance of referring to males than females"
   ]
  },
  {
   "cell_type": "code",
<<<<<<< HEAD:.ipynb_checkpoints/gender statistics-Copy1-checkpoint.ipynb
   "execution_count": 23,
=======
   "execution_count": null,
   "id": "1db59c98",
<<<<<<< HEAD:.ipynb_checkpoints/gender statistics-Copy1-checkpoint.ipynb
>>>>>>> parent of 1ed1bc3 (ed):gender statistics.ipynb
=======
>>>>>>> parent of 1ed1bc3 (ed):gender statistics.ipynb
   "metadata": {},
   "outputs": [
    {
     "data": {
      "text/plain": [
       "0    1.751743\n",
       "dtype: float64"
      ]
     },
     "execution_count": 23,
     "metadata": {},
     "output_type": "execute_result"
    }
   ],
   "source": [
    "han/males"
   ]
  },
  {
   "cell_type": "code",
<<<<<<< HEAD:.ipynb_checkpoints/gender statistics-Copy1-checkpoint.ipynb
   "execution_count": 24,
=======
   "execution_count": null,
   "id": "fad360d5",
<<<<<<< HEAD:.ipynb_checkpoints/gender statistics-Copy1-checkpoint.ipynb
>>>>>>> parent of 1ed1bc3 (ed):gender statistics.ipynb
=======
>>>>>>> parent of 1ed1bc3 (ed):gender statistics.ipynb
   "metadata": {},
   "outputs": [
    {
     "data": {
      "text/plain": [
       "0    1.335397\n",
       "dtype: float64"
      ]
     },
     "execution_count": 24,
     "metadata": {},
     "output_type": "execute_result"
    }
   ],
   "source": [
    "hun/females"
   ]
  },
  {
   "cell_type": "markdown",
   "id": "58ac5663",
   "metadata": {},
   "source": [
    "## Exercise\n",
    "\n",
    "Change the metadata and choose a different book"
   ]
  }
 ],
 "metadata": {
  "kernelspec": {
   "display_name": "Python 3",
   "language": "python",
   "name": "python3"
  },
  "language_info": {
   "codemirror_mode": {
    "name": "ipython",
    "version": 3
   },
   "file_extension": ".py",
   "mimetype": "text/x-python",
   "name": "python",
   "nbconvert_exporter": "python",
   "pygments_lexer": "ipython3",
   "version": "3.8.10"
  }
 },
 "nbformat": 4,
 "nbformat_minor": 5
}
