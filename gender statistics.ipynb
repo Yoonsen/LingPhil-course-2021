{
 "cells": [
  {
   "cell_type": "markdown",
   "id": "ed97a215-12c7-4301-9c0a-70bb6123de1a",
   "metadata": {},
   "source": [
    "# Gender in norwegian novels\n",
    "\n",
    "* How to find the distribution of gender in novels\n",
    "* Are females more likely to be referred to again than males?\n"
   ]
  },
  {
   "cell_type": "code",
   "execution_count": 1,
   "id": "65ee7fbb-1934-4d8d-a641-41759adeab0a",
   "metadata": {},
   "outputs": [],
   "source": [
    "# uncomment the line below (remove #) and run of gender-guesser is not installed\n",
    "#!pip install gender-guesser"
   ]
  },
  {
   "cell_type": "code",
   "execution_count": 3,
   "id": "a02ea914-0c64-4478-93e5-c4e6ccbdfdac",
   "metadata": {},
   "outputs": [
    {
     "data": {
      "text/markdown": [
       "Updated file `/mnt/disk1/Github/LingPhil-course-2021/wordbank.py`"
      ],
      "text/plain": [
       "<IPython.core.display.Markdown object>"
      ]
     },
     "metadata": {},
     "output_type": "display_data"
    },
    {
     "data": {
      "text/html": [
       "<style>@import url(http://fonts.googleapis.com/css?family=Lato|Philosopher|Montserrat|Source+Code+Pro|Merriweather|Shippori+Mincho|Istok+Web|Philosopher|Assistant:200,400,700);\n",
       "\n",
       "body  {\n",
       "    margin:5px;\n",
       "}\n",
       "\n",
       ".jp-MarkdownOutput, .text_cell_render {\n",
       "\n",
       "    background-color:#FEFBF1;    \n",
       "    border-style: solid;\n",
       "    border-width: 1px;\n",
       "    border-color: rgba(0,0,0, 0.10);;\n",
       "}\n",
       "\n",
       "p {\n",
       "\tfont-family: 'Shippori+Mincho'; \n",
       "\tfont-size:1.1em;\n",
       "    color: Black;\n",
       "    font-size: 1.2em;\n",
       "    font-family:Serif;\n",
       "}\n",
       "  \n",
       "h1, h2, h3 {\n",
       "\tfont-family: 'Montserrat', sans-serif;\n",
       "\tline-height: 2em;\n",
       "\tcolor:FireBrick;\n",
       "\tfont-weight: 600;\n",
       "}\n",
       "\n",
       "}\n",
       "\n",
       "h1:after {\n",
       "    content: \"\"; /* This is necessary for the pseudo element to work. */ \n",
       "    display: block; /* This will put the pseudo element on its own line. */\n",
       "    /*margin: 0 auto; This will center the border. */\n",
       "    width: 50%; /* Change this to whatever width you want. */\n",
       "    padding-top: 10px;\n",
       "    border-bottom:3px solid SlateGray; /* FireBrick; */\n",
       "}\n",
       "\n",
       "h2:after {\n",
       "    content: \"\"; /* This is necessary for the pseudo element to work. */ \n",
       "    display: block; /* This will put the pseudo element on its own line. */\n",
       "    /*margin: 0 auto; This will center the border. */\n",
       "    width: 30%; /* Change this to whatever width you want. */\n",
       "    padding-top: 10px;\n",
       "    border-bottom:2px solid SlateGray; /* FireBrick; */\n",
       "}\n",
       "</style>"
      ],
      "text/plain": [
       "<IPython.core.display.HTML object>"
      ]
     },
     "execution_count": 3,
     "metadata": {},
     "output_type": "execute_result"
    }
   ],
   "source": [
    "import gender_guesser.detector as gender\n",
    "import dhlab.module_update as mu\n",
    "import dhlab.nbtext as nb\n",
    "import requests\n",
    "import pandas as pd\n",
    "import json\n",
    "from collections import Counter\n",
    "mu.update(\"wordbank\")\n",
    "import wordbank as wb\n",
    "mu.css()"
   ]
  },
  {
   "cell_type": "code",
   "execution_count": 4,
   "id": "b6e85ea4-5386-4111-95a0-3854c9cd07ad",
   "metadata": {},
   "outputs": [
    {
     "data": {
      "text/html": [
       "<style>\n",
       "p {font-size:1.5em}\n",
       "</style>\n"
      ],
      "text/plain": [
       "<IPython.core.display.HTML object>"
      ]
     },
     "metadata": {},
     "output_type": "display_data"
    }
   ],
   "source": [
    "%%HTML\n",
    "<style>\n",
    "p {font-size:1.5em}\n",
    "</style>"
   ]
  },
  {
   "cell_type": "code",
   "execution_count": 5,
   "id": "0095fe2a-0e8d-4ee5-802f-8c39b7992600",
   "metadata": {},
   "outputs": [],
   "source": [
    "detect = gender.Detector()"
   ]
  },
  {
   "cell_type": "markdown",
   "id": "93a78c8b-8c73-4e3c-8177-63e4243ebe24",
   "metadata": {},
   "source": [
    "## Build a corpus using metadata\n",
    "\n",
    "search using author dewey, subject translation etc."
   ]
  },
  {
   "cell_type": "code",
   "execution_count": 6,
   "id": "d89271a8-073c-41b8-a252-e227a2eeb180",
   "metadata": {},
   "outputs": [
    {
     "data": {
      "text/html": [
       "<div>\n",
       "<style scoped>\n",
       "    .dataframe tbody tr th:only-of-type {\n",
       "        vertical-align: middle;\n",
       "    }\n",
       "\n",
       "    .dataframe tbody tr th {\n",
       "        vertical-align: top;\n",
       "    }\n",
       "\n",
       "    .dataframe thead th {\n",
       "        text-align: right;\n",
       "    }\n",
       "</style>\n",
       "<table border=\"1\" class=\"dataframe\">\n",
       "  <thead>\n",
       "    <tr style=\"text-align: right;\">\n",
       "      <th></th>\n",
       "      <th>urn</th>\n",
       "      <th>author</th>\n",
       "      <th>title</th>\n",
       "      <th>year</th>\n",
       "    </tr>\n",
       "  </thead>\n",
       "  <tbody>\n",
       "    <tr>\n",
       "      <th>0</th>\n",
       "      <td>2012052905085</td>\n",
       "      <td>Knausgård, Karl Ove</td>\n",
       "      <td>Ute av verden</td>\n",
       "      <td>2006</td>\n",
       "    </tr>\n",
       "    <tr>\n",
       "      <th>1</th>\n",
       "      <td>2012112638153</td>\n",
       "      <td>Knausgård, Karl Ove</td>\n",
       "      <td>Min kamp</td>\n",
       "      <td>2011</td>\n",
       "    </tr>\n",
       "    <tr>\n",
       "      <th>2</th>\n",
       "      <td>2013082806088</td>\n",
       "      <td>Knausgård, Karl Ove</td>\n",
       "      <td>Min kamp</td>\n",
       "      <td>2010</td>\n",
       "    </tr>\n",
       "    <tr>\n",
       "      <th>3</th>\n",
       "      <td>2011090606104</td>\n",
       "      <td>Knausgård, Karl Ove</td>\n",
       "      <td>Ute av verden</td>\n",
       "      <td>2005</td>\n",
       "    </tr>\n",
       "    <tr>\n",
       "      <th>4</th>\n",
       "      <td>2014013105041</td>\n",
       "      <td>Knausgård, Karl Ove</td>\n",
       "      <td>Min kamp</td>\n",
       "      <td>2009</td>\n",
       "    </tr>\n",
       "    <tr>\n",
       "      <th>5</th>\n",
       "      <td>2012111508072</td>\n",
       "      <td>Knausgård, Karl Ove</td>\n",
       "      <td>Min kamp</td>\n",
       "      <td>2011</td>\n",
       "    </tr>\n",
       "    <tr>\n",
       "      <th>6</th>\n",
       "      <td>2013091306040</td>\n",
       "      <td>Knausgård, Karl Ove</td>\n",
       "      <td>Min kamp</td>\n",
       "      <td>2009</td>\n",
       "    </tr>\n",
       "    <tr>\n",
       "      <th>7</th>\n",
       "      <td>2008091001001</td>\n",
       "      <td>Knausgård, Karl Ove</td>\n",
       "      <td>Ute av verden</td>\n",
       "      <td>1999</td>\n",
       "    </tr>\n",
       "    <tr>\n",
       "      <th>8</th>\n",
       "      <td>2014120108004</td>\n",
       "      <td>Knausgård, Karl Ove</td>\n",
       "      <td>Ute av verden</td>\n",
       "      <td>2002</td>\n",
       "    </tr>\n",
       "    <tr>\n",
       "      <th>9</th>\n",
       "      <td>2012111508022</td>\n",
       "      <td>Knausgård, Karl Ove</td>\n",
       "      <td>Min kamp</td>\n",
       "      <td>2011</td>\n",
       "    </tr>\n",
       "    <tr>\n",
       "      <th>10</th>\n",
       "      <td>2013102906036</td>\n",
       "      <td>Knausgård, Karl Ove</td>\n",
       "      <td>Min kamp</td>\n",
       "      <td>2010</td>\n",
       "    </tr>\n",
       "    <tr>\n",
       "      <th>11</th>\n",
       "      <td>2008092300152</td>\n",
       "      <td>Knausgård, Karl Ove</td>\n",
       "      <td>Ute av verden</td>\n",
       "      <td>1998</td>\n",
       "    </tr>\n",
       "    <tr>\n",
       "      <th>12</th>\n",
       "      <td>2014090438009</td>\n",
       "      <td>Knausgård, Karl Ove</td>\n",
       "      <td>tid for alt</td>\n",
       "      <td>2005</td>\n",
       "    </tr>\n",
       "    <tr>\n",
       "      <th>13</th>\n",
       "      <td>2014100308011</td>\n",
       "      <td>Knausgård, Karl Ove</td>\n",
       "      <td>Min kamp</td>\n",
       "      <td>2011</td>\n",
       "    </tr>\n",
       "    <tr>\n",
       "      <th>14</th>\n",
       "      <td>2011070805095</td>\n",
       "      <td>Knausgård, Karl Ove</td>\n",
       "      <td>tid for alt</td>\n",
       "      <td>2004</td>\n",
       "    </tr>\n",
       "  </tbody>\n",
       "</table>\n",
       "</div>"
      ],
      "text/plain": [
       "              urn               author          title  year\n",
       "0   2012052905085  Knausgård, Karl Ove  Ute av verden  2006\n",
       "1   2012112638153  Knausgård, Karl Ove       Min kamp  2011\n",
       "2   2013082806088  Knausgård, Karl Ove       Min kamp  2010\n",
       "3   2011090606104  Knausgård, Karl Ove  Ute av verden  2005\n",
       "4   2014013105041  Knausgård, Karl Ove       Min kamp  2009\n",
       "5   2012111508072  Knausgård, Karl Ove       Min kamp  2011\n",
       "6   2013091306040  Knausgård, Karl Ove       Min kamp  2009\n",
       "7   2008091001001  Knausgård, Karl Ove  Ute av verden  1999\n",
       "8   2014120108004  Knausgård, Karl Ove  Ute av verden  2002\n",
       "9   2012111508022  Knausgård, Karl Ove       Min kamp  2011\n",
       "10  2013102906036  Knausgård, Karl Ove       Min kamp  2010\n",
       "11  2008092300152  Knausgård, Karl Ove  Ute av verden  1998\n",
       "12  2014090438009  Knausgård, Karl Ove    tid for alt  2005\n",
       "13  2014100308011  Knausgård, Karl Ove       Min kamp  2011\n",
       "14  2011070805095  Knausgård, Karl Ove    tid for alt  2004"
      ]
     },
     "execution_count": 6,
     "metadata": {},
     "output_type": "execute_result"
    }
   ],
   "source": [
    "nb.book_corpus(author=\"knaus%karl%\")"
   ]
  },
  {
   "cell_type": "markdown",
   "id": "8db64334-cb98-41fc-8ca6-bd38f9055e1b",
   "metadata": {},
   "source": [
    "### Look up metadata for `2012112638153`"
   ]
  },
  {
   "cell_type": "code",
   "execution_count": 9,
   "id": "b908064b-b80d-4d65-b44d-e9bd8d964c08",
   "metadata": {},
   "outputs": [
    {
     "data": {
      "text/plain": [
       "[[2012112638153,\n",
       "  'Knausgård, Karl Ove',\n",
       "  2011,\n",
       "  'Min kamp',\n",
       "  'roman',\n",
       "  'Oktober;Oslo : Oktober, 2009-2011',\n",
       "  'novel',\n",
       "  'bf0b43404b0670299aa63f1d7897b268',\n",
       "  'nob',\n",
       "  '']]"
      ]
     },
     "execution_count": 9,
     "metadata": {},
     "output_type": "execute_result"
    }
   ],
   "source": [
    "nb.metadata(2012112638153)"
   ]
  },
  {
   "cell_type": "markdown",
   "id": "fbd67237-1ce1-4b44-a40e-8906f9b07a87",
   "metadata": {},
   "source": [
    "### Collect the frequency for this book"
   ]
  },
  {
   "cell_type": "code",
   "execution_count": 10,
   "id": "b9581c26-f502-40c3-920f-1a5ad432cec4",
   "metadata": {},
   "outputs": [
    {
     "data": {
      "text/html": [
       "<div>\n",
       "<style scoped>\n",
       "    .dataframe tbody tr th:only-of-type {\n",
       "        vertical-align: middle;\n",
       "    }\n",
       "\n",
       "    .dataframe tbody tr th {\n",
       "        vertical-align: top;\n",
       "    }\n",
       "\n",
       "    .dataframe thead th {\n",
       "        text-align: right;\n",
       "    }\n",
       "</style>\n",
       "<table border=\"1\" class=\"dataframe\">\n",
       "  <thead>\n",
       "    <tr style=\"text-align: right;\">\n",
       "      <th></th>\n",
       "      <th>0</th>\n",
       "    </tr>\n",
       "  </thead>\n",
       "  <tbody>\n",
       "    <tr>\n",
       "      <th>,</th>\n",
       "      <td>37246</td>\n",
       "    </tr>\n",
       "    <tr>\n",
       "      <th>.</th>\n",
       "      <td>21018</td>\n",
       "    </tr>\n",
       "    <tr>\n",
       "      <th>det</th>\n",
       "      <td>15460</td>\n",
       "    </tr>\n",
       "    <tr>\n",
       "      <th>og</th>\n",
       "      <td>15363</td>\n",
       "    </tr>\n",
       "    <tr>\n",
       "      <th>i</th>\n",
       "      <td>9999</td>\n",
       "    </tr>\n",
       "    <tr>\n",
       "      <th>som</th>\n",
       "      <td>9011</td>\n",
       "    </tr>\n",
       "    <tr>\n",
       "      <th>jeg</th>\n",
       "      <td>8107</td>\n",
       "    </tr>\n",
       "    <tr>\n",
       "      <th>var</th>\n",
       "      <td>7246</td>\n",
       "    </tr>\n",
       "    <tr>\n",
       "      <th>er</th>\n",
       "      <td>6598</td>\n",
       "    </tr>\n",
       "    <tr>\n",
       "      <th>på</th>\n",
       "      <td>6577</td>\n",
       "    </tr>\n",
       "    <tr>\n",
       "      <th>en</th>\n",
       "      <td>6360</td>\n",
       "    </tr>\n",
       "    <tr>\n",
       "      <th>ikke</th>\n",
       "      <td>6088</td>\n",
       "    </tr>\n",
       "    <tr>\n",
       "      <th>den</th>\n",
       "      <td>5704</td>\n",
       "    </tr>\n",
       "    <tr>\n",
       "      <th>av</th>\n",
       "      <td>5149</td>\n",
       "    </tr>\n",
       "    <tr>\n",
       "      <th>til</th>\n",
       "      <td>4894</td>\n",
       "    </tr>\n",
       "    <tr>\n",
       "      <th>-</th>\n",
       "      <td>4869</td>\n",
       "    </tr>\n",
       "    <tr>\n",
       "      <th>å</th>\n",
       "      <td>4544</td>\n",
       "    </tr>\n",
       "    <tr>\n",
       "      <th>at</th>\n",
       "      <td>4387</td>\n",
       "    </tr>\n",
       "    <tr>\n",
       "      <th>med</th>\n",
       "      <td>4155</td>\n",
       "    </tr>\n",
       "    <tr>\n",
       "      <th>hadde</th>\n",
       "      <td>4138</td>\n",
       "    </tr>\n",
       "  </tbody>\n",
       "</table>\n",
       "</div>"
      ],
      "text/plain": [
       "           0\n",
       ",      37246\n",
       ".      21018\n",
       "det    15460\n",
       "og     15363\n",
       "i       9999\n",
       "som     9011\n",
       "jeg     8107\n",
       "var     7246\n",
       "er      6598\n",
       "på      6577\n",
       "en      6360\n",
       "ikke    6088\n",
       "den     5704\n",
       "av      5149\n",
       "til     4894\n",
       "-       4869\n",
       "å       4544\n",
       "at      4387\n",
       "med     4155\n",
       "hadde   4138"
      ]
     },
     "execution_count": 10,
     "metadata": {},
     "output_type": "execute_result"
    }
   ],
   "source": [
    "book = nb.frame(nb.get_freq(2012112638153, top=0, cutoff=0))\n",
    "book.head(20)"
   ]
  },
  {
   "cell_type": "markdown",
   "id": "74055055-9fe3-4026-894d-f5070d3047a8",
   "metadata": {},
   "source": [
    "### Initial gender distribution with pronouns\n",
    "\n",
    "Her with the accusative forms - most frequent"
   ]
  },
  {
   "cell_type": "code",
   "execution_count": 11,
   "id": "9a624dc8-b066-4b60-b70b-b95a6e12893d",
   "metadata": {},
   "outputs": [
    {
     "data": {
      "text/html": [
       "<div>\n",
       "<style scoped>\n",
       "    .dataframe tbody tr th:only-of-type {\n",
       "        vertical-align: middle;\n",
       "    }\n",
       "\n",
       "    .dataframe tbody tr th {\n",
       "        vertical-align: top;\n",
       "    }\n",
       "\n",
       "    .dataframe thead th {\n",
       "        text-align: right;\n",
       "    }\n",
       "</style>\n",
       "<table border=\"1\" class=\"dataframe\">\n",
       "  <thead>\n",
       "    <tr style=\"text-align: right;\">\n",
       "      <th></th>\n",
       "      <th>0</th>\n",
       "    </tr>\n",
       "  </thead>\n",
       "  <tbody>\n",
       "    <tr>\n",
       "      <th>han</th>\n",
       "      <td>3768</td>\n",
       "    </tr>\n",
       "    <tr>\n",
       "      <th>hun</th>\n",
       "      <td>2373</td>\n",
       "    </tr>\n",
       "  </tbody>\n",
       "</table>\n",
       "</div>"
      ],
      "text/plain": [
       "        0\n",
       "han  3768\n",
       "hun  2373"
      ]
     },
     "execution_count": 11,
     "metadata": {},
     "output_type": "execute_result"
    }
   ],
   "source": [
    "book.loc[['han', 'hun']]"
   ]
  },
  {
   "cell_type": "markdown",
   "id": "9cf3baec-9fdb-4017-be87-603babd8adcc",
   "metadata": {},
   "source": [
    "### Find words with capital letters\n",
    "\n",
    "Heuristics for a name candidate:\n",
    "\n",
    "1. Starts with a capital letter\n",
    "1. Only first letter is capital\n",
    "1. It won't occur without a capital letter"
   ]
  },
  {
   "cell_type": "code",
   "execution_count": 12,
   "id": "03cd69c4-c0c2-4099-a9d4-856f0979d2bf",
   "metadata": {},
   "outputs": [],
   "source": [
    "capitals = [x for x in book.index \n",
    "            if x.upper()[0] == x[0] \n",
    "            and x.upper() != x \n",
    "            and x.isalpha() \n",
    "            and not x.lower() in book.index]"
   ]
  },
  {
   "cell_type": "markdown",
   "id": "c9c1d471-28ae-49c8-99e0-9dd0d1c0c128",
   "metadata": {},
   "source": [
    "### Take a quick look at wordbank"
   ]
  },
  {
   "cell_type": "code",
   "execution_count": 13,
   "id": "374016e4-2266-41af-8947-2fdd0385d0d7",
   "metadata": {},
   "outputs": [
    {
     "data": {
      "text/plain": [
       "[['Herren', 'subst prop normert'],\n",
       " ['Vårherre', 'subst prop normert'],\n",
       " ['Østen', 'subst nøyt prop normert'],\n",
       " ['Østen', 'subst prop normert'],\n",
       " ['Mosebøkene', 'subst fem appell fl be normert'],\n",
       " ['Mosebøkene', 'subst mask appell fl be normert'],\n",
       " ['Pascal', 'subst prop normert'],\n",
       " ['Ola', 'subst mask prop normert'],\n",
       " ['Na', 'symb subst normert'],\n",
       " ['Moseloven', 'subst mask prop normert'],\n",
       " ['Mosebok', 'subst fem appell ent ub normert'],\n",
       " ['Mosebok', 'subst mask appell ent ub normert'],\n",
       " ['Kr', 'symb subst normert'],\n",
       " ['Au', 'symb subst normert']]"
      ]
     },
     "execution_count": 13,
     "metadata": {},
     "output_type": "execute_result"
    }
   ],
   "source": [
    "wb.word_form_many(capitals)"
   ]
  },
  {
   "cell_type": "code",
   "execution_count": 14,
   "id": "f48d4522-8dd0-4107-8962-9f3c370be150",
   "metadata": {},
   "outputs": [
    {
     "data": {
      "text/plain": [
       "[['Per', 'subst mask appell ent ub normert'],\n",
       " ['Per', 'subst mask prop normert'],\n",
       " ['bjørn', 'subst mask appell ent ub normert']]"
      ]
     },
     "execution_count": 14,
     "metadata": {},
     "output_type": "execute_result"
    }
   ],
   "source": [
    "wb.word_form_many(['Ask', \"Per\", \"Lars\", \"Bjørn\", \"bjørn\"])"
   ]
  },
  {
   "cell_type": "markdown",
   "id": "6dfe51ba-4b30-46f1-b98e-47863175c4e4",
   "metadata": {},
   "source": [
    "### Collect gender data for words in the book"
   ]
  },
  {
   "cell_type": "code",
   "execution_count": 15,
   "id": "65ebea20-2fa1-407f-9e27-653501832414",
   "metadata": {},
   "outputs": [],
   "source": [
    "gender_data = [(c, detect.get_gender(c)) for c in capitals]"
   ]
  },
  {
   "cell_type": "code",
   "execution_count": 16,
   "id": "19929514-623e-4cbc-bd95-6eeef40462e0",
   "metadata": {},
   "outputs": [
    {
     "data": {
      "text/html": [
       "<div>\n",
       "<style scoped>\n",
       "    .dataframe tbody tr th:only-of-type {\n",
       "        vertical-align: middle;\n",
       "    }\n",
       "\n",
       "    .dataframe tbody tr th {\n",
       "        vertical-align: top;\n",
       "    }\n",
       "\n",
       "    .dataframe thead th {\n",
       "        text-align: right;\n",
       "    }\n",
       "</style>\n",
       "<table border=\"1\" class=\"dataframe\">\n",
       "  <thead>\n",
       "    <tr style=\"text-align: right;\">\n",
       "      <th></th>\n",
       "      <th>gender</th>\n",
       "    </tr>\n",
       "    <tr>\n",
       "      <th>name</th>\n",
       "      <th></th>\n",
       "    </tr>\n",
       "  </thead>\n",
       "  <tbody>\n",
       "    <tr>\n",
       "      <th>Linda</th>\n",
       "      <td>female</td>\n",
       "    </tr>\n",
       "    <tr>\n",
       "      <th>Hitler</th>\n",
       "      <td>unknown</td>\n",
       "    </tr>\n",
       "    <tr>\n",
       "      <th>Vanja</th>\n",
       "      <td>andy</td>\n",
       "    </tr>\n",
       "    <tr>\n",
       "      <th>Heidi</th>\n",
       "      <td>female</td>\n",
       "    </tr>\n",
       "    <tr>\n",
       "      <th>Geir</th>\n",
       "      <td>male</td>\n",
       "    </tr>\n",
       "    <tr>\n",
       "      <th>John</th>\n",
       "      <td>male</td>\n",
       "    </tr>\n",
       "    <tr>\n",
       "      <th>Kubizek</th>\n",
       "      <td>unknown</td>\n",
       "    </tr>\n",
       "    <tr>\n",
       "      <th>Hitlers</th>\n",
       "      <td>unknown</td>\n",
       "    </tr>\n",
       "    <tr>\n",
       "      <th>Njaal</th>\n",
       "      <td>unknown</td>\n",
       "    </tr>\n",
       "    <tr>\n",
       "      <th>Gunnar</th>\n",
       "      <td>male</td>\n",
       "    </tr>\n",
       "    <tr>\n",
       "      <th>Yngve</th>\n",
       "      <td>male</td>\n",
       "    </tr>\n",
       "    <tr>\n",
       "      <th>Wien</th>\n",
       "      <td>unknown</td>\n",
       "    </tr>\n",
       "    <tr>\n",
       "      <th>Christina</th>\n",
       "      <td>female</td>\n",
       "    </tr>\n",
       "    <tr>\n",
       "      <th>Tyskland</th>\n",
       "      <td>unknown</td>\n",
       "    </tr>\n",
       "    <tr>\n",
       "      <th>Malmo</th>\n",
       "      <td>unknown</td>\n",
       "    </tr>\n",
       "    <tr>\n",
       "      <th>Karl</th>\n",
       "      <td>male</td>\n",
       "    </tr>\n",
       "    <tr>\n",
       "      <th>Adolf</th>\n",
       "      <td>male</td>\n",
       "    </tr>\n",
       "    <tr>\n",
       "      <th>Hanfstaengl</th>\n",
       "      <td>unknown</td>\n",
       "    </tr>\n",
       "    <tr>\n",
       "      <th>Ingrid</th>\n",
       "      <td>female</td>\n",
       "    </tr>\n",
       "    <tr>\n",
       "      <th>Thomas</th>\n",
       "      <td>male</td>\n",
       "    </tr>\n",
       "    <tr>\n",
       "      <th>Stockholm</th>\n",
       "      <td>unknown</td>\n",
       "    </tr>\n",
       "    <tr>\n",
       "      <th>Linz</th>\n",
       "      <td>unknown</td>\n",
       "    </tr>\n",
       "    <tr>\n",
       "      <th>Lindas</th>\n",
       "      <td>unknown</td>\n",
       "    </tr>\n",
       "    <tr>\n",
       "      <th>Tore</th>\n",
       "      <td>male</td>\n",
       "    </tr>\n",
       "    <tr>\n",
       "      <th>Hamlet</th>\n",
       "      <td>male</td>\n",
       "    </tr>\n",
       "    <tr>\n",
       "      <th>Hamsun</th>\n",
       "      <td>unknown</td>\n",
       "    </tr>\n",
       "    <tr>\n",
       "      <th>Kubizeks</th>\n",
       "      <td>unknown</td>\n",
       "    </tr>\n",
       "    <tr>\n",
       "      <th>Sverige</th>\n",
       "      <td>unknown</td>\n",
       "    </tr>\n",
       "    <tr>\n",
       "      <th>Moses</th>\n",
       "      <td>male</td>\n",
       "    </tr>\n",
       "    <tr>\n",
       "      <th>Klemperer</th>\n",
       "      <td>unknown</td>\n",
       "    </tr>\n",
       "  </tbody>\n",
       "</table>\n",
       "</div>"
      ],
      "text/plain": [
       "              gender\n",
       "name                \n",
       "Linda         female\n",
       "Hitler       unknown\n",
       "Vanja           andy\n",
       "Heidi         female\n",
       "Geir            male\n",
       "John            male\n",
       "Kubizek      unknown\n",
       "Hitlers      unknown\n",
       "Njaal        unknown\n",
       "Gunnar          male\n",
       "Yngve           male\n",
       "Wien         unknown\n",
       "Christina     female\n",
       "Tyskland     unknown\n",
       "Malmo        unknown\n",
       "Karl            male\n",
       "Adolf           male\n",
       "Hanfstaengl  unknown\n",
       "Ingrid        female\n",
       "Thomas          male\n",
       "Stockholm    unknown\n",
       "Linz         unknown\n",
       "Lindas       unknown\n",
       "Tore            male\n",
       "Hamlet          male\n",
       "Hamsun       unknown\n",
       "Kubizeks     unknown\n",
       "Sverige      unknown\n",
       "Moses           male\n",
       "Klemperer    unknown"
      ]
     },
     "execution_count": 16,
     "metadata": {},
     "output_type": "execute_result"
    }
   ],
   "source": [
    "gf = pd.DataFrame(gender_data, columns = ['name', 'gender']).set_index('name')\n",
    "gf.head(30)"
   ]
  },
  {
   "cell_type": "markdown",
   "id": "33d0feaf-29f4-4454-a9fe-d9f016a5b269",
   "metadata": {},
   "source": [
    "### Count the different males"
   ]
  },
  {
   "cell_type": "code",
   "execution_count": 17,
   "id": "50e8c2b6-6d70-4e7d-875d-ddb49cbeee54",
   "metadata": {},
   "outputs": [
    {
     "data": {
      "text/plain": [
       "gender    138\n",
       "dtype: int64"
      ]
     },
     "execution_count": 17,
     "metadata": {},
     "output_type": "execute_result"
    }
   ],
   "source": [
    "gf[gf['gender'] == 'female'].count()"
   ]
  },
  {
   "cell_type": "code",
   "execution_count": 18,
   "id": "988333a0-f642-4024-b0e9-d72a8c6b99b7",
   "metadata": {},
   "outputs": [
    {
     "data": {
      "text/plain": [
       "gender    303\n",
       "dtype: int64"
      ]
     },
     "execution_count": 18,
     "metadata": {},
     "output_type": "execute_result"
    }
   ],
   "source": [
    "gf[gf['gender'] == 'male'].count()"
   ]
  },
  {
   "cell_type": "markdown",
   "id": "49ff319b-88b9-4d87-9b7a-6cfb3206a845",
   "metadata": {},
   "source": [
    "### Find names"
   ]
  },
  {
   "cell_type": "code",
   "execution_count": 19,
   "id": "65ed9eaf-43e0-4610-810e-6d12736f36c7",
   "metadata": {},
   "outputs": [
    {
     "data": {
      "text/html": [
       "<div>\n",
       "<style scoped>\n",
       "    .dataframe tbody tr th:only-of-type {\n",
       "        vertical-align: middle;\n",
       "    }\n",
       "\n",
       "    .dataframe tbody tr th {\n",
       "        vertical-align: top;\n",
       "    }\n",
       "\n",
       "    .dataframe thead th {\n",
       "        text-align: right;\n",
       "    }\n",
       "</style>\n",
       "<table border=\"1\" class=\"dataframe\">\n",
       "  <thead>\n",
       "    <tr style=\"text-align: right;\">\n",
       "      <th></th>\n",
       "      <th>gender</th>\n",
       "    </tr>\n",
       "    <tr>\n",
       "      <th>name</th>\n",
       "      <th></th>\n",
       "    </tr>\n",
       "  </thead>\n",
       "  <tbody>\n",
       "    <tr>\n",
       "      <th>Geir</th>\n",
       "      <td>male</td>\n",
       "    </tr>\n",
       "    <tr>\n",
       "      <th>John</th>\n",
       "      <td>male</td>\n",
       "    </tr>\n",
       "    <tr>\n",
       "      <th>Gunnar</th>\n",
       "      <td>male</td>\n",
       "    </tr>\n",
       "    <tr>\n",
       "      <th>Yngve</th>\n",
       "      <td>male</td>\n",
       "    </tr>\n",
       "    <tr>\n",
       "      <th>Karl</th>\n",
       "      <td>male</td>\n",
       "    </tr>\n",
       "    <tr>\n",
       "      <th>Adolf</th>\n",
       "      <td>male</td>\n",
       "    </tr>\n",
       "    <tr>\n",
       "      <th>Thomas</th>\n",
       "      <td>male</td>\n",
       "    </tr>\n",
       "    <tr>\n",
       "      <th>Tore</th>\n",
       "      <td>male</td>\n",
       "    </tr>\n",
       "    <tr>\n",
       "      <th>Hamlet</th>\n",
       "      <td>male</td>\n",
       "    </tr>\n",
       "    <tr>\n",
       "      <th>Moses</th>\n",
       "      <td>male</td>\n",
       "    </tr>\n",
       "    <tr>\n",
       "      <th>Stephen</th>\n",
       "      <td>male</td>\n",
       "    </tr>\n",
       "    <tr>\n",
       "      <th>Jan</th>\n",
       "      <td>male</td>\n",
       "    </tr>\n",
       "    <tr>\n",
       "      <th>Paul</th>\n",
       "      <td>male</td>\n",
       "    </tr>\n",
       "    <tr>\n",
       "      <th>Vidar</th>\n",
       "      <td>male</td>\n",
       "    </tr>\n",
       "    <tr>\n",
       "      <th>Asbjørn</th>\n",
       "      <td>male</td>\n",
       "    </tr>\n",
       "    <tr>\n",
       "      <th>Mathias</th>\n",
       "      <td>male</td>\n",
       "    </tr>\n",
       "    <tr>\n",
       "      <th>Ulysses</th>\n",
       "      <td>male</td>\n",
       "    </tr>\n",
       "    <tr>\n",
       "      <th>Abel</th>\n",
       "      <td>male</td>\n",
       "    </tr>\n",
       "    <tr>\n",
       "      <th>Don</th>\n",
       "      <td>male</td>\n",
       "    </tr>\n",
       "    <tr>\n",
       "      <th>Axel</th>\n",
       "      <td>male</td>\n",
       "    </tr>\n",
       "  </tbody>\n",
       "</table>\n",
       "</div>"
      ],
      "text/plain": [
       "        gender\n",
       "name          \n",
       "Geir      male\n",
       "John      male\n",
       "Gunnar    male\n",
       "Yngve     male\n",
       "Karl      male\n",
       "Adolf     male\n",
       "Thomas    male\n",
       "Tore      male\n",
       "Hamlet    male\n",
       "Moses     male\n",
       "Stephen   male\n",
       "Jan       male\n",
       "Paul      male\n",
       "Vidar     male\n",
       "Asbjørn   male\n",
       "Mathias   male\n",
       "Ulysses   male\n",
       "Abel      male\n",
       "Don       male\n",
       "Axel      male"
      ]
     },
     "execution_count": 19,
     "metadata": {},
     "output_type": "execute_result"
    }
   ],
   "source": [
    "gf[gf['gender'] == 'male'].head(20)"
   ]
  },
  {
   "cell_type": "markdown",
   "id": "7087b297-268b-4664-a279-b8acaed092cc",
   "metadata": {},
   "source": [
    "### Fetch some numbers\n",
    "\n",
    "Have a look at transfer to variables"
   ]
  },
  {
   "cell_type": "code",
   "execution_count": 20,
   "id": "d4361b09-01a8-49e5-8d1a-ade826e6992f",
   "metadata": {},
   "outputs": [
    {
     "data": {
      "text/html": [
       "<div>\n",
       "<style scoped>\n",
       "    .dataframe tbody tr th:only-of-type {\n",
       "        vertical-align: middle;\n",
       "    }\n",
       "\n",
       "    .dataframe tbody tr th {\n",
       "        vertical-align: top;\n",
       "    }\n",
       "\n",
       "    .dataframe thead th {\n",
       "        text-align: right;\n",
       "    }\n",
       "</style>\n",
       "<table border=\"1\" class=\"dataframe\">\n",
       "  <thead>\n",
       "    <tr style=\"text-align: right;\">\n",
       "      <th></th>\n",
       "      <th>0</th>\n",
       "    </tr>\n",
       "  </thead>\n",
       "  <tbody>\n",
       "    <tr>\n",
       "      <th>han</th>\n",
       "      <td>3768</td>\n",
       "    </tr>\n",
       "    <tr>\n",
       "      <th>hun</th>\n",
       "      <td>2373</td>\n",
       "    </tr>\n",
       "    <tr>\n",
       "      <th>jeg</th>\n",
       "      <td>8107</td>\n",
       "    </tr>\n",
       "  </tbody>\n",
       "</table>\n",
       "</div>"
      ],
      "text/plain": [
       "        0\n",
       "han  3768\n",
       "hun  2373\n",
       "jeg  8107"
      ]
     },
     "execution_count": 20,
     "metadata": {},
     "output_type": "execute_result"
    }
   ],
   "source": [
    "book.loc[['han', 'hun', 'jeg']]"
   ]
  },
  {
   "cell_type": "code",
   "execution_count": 21,
   "id": "612c3705-85d0-47ca-95f2-87f71e1464ba",
   "metadata": {},
   "outputs": [],
   "source": [
    "han = book.loc['han']\n",
    "hun = book.loc['hun']\n",
    "jeg = book.loc['jeg']"
   ]
  },
  {
   "cell_type": "markdown",
   "id": "7c392cfb-f679-48a9-ac39-4bf61db6560a",
   "metadata": {},
   "source": [
    "### Count the occurrences\n",
    "\n",
    "Each name occurs a couple of times. Here we count how often the different males occur. First. let's have a look at the dataframe of male names, the frequency list. Note possible source of error, first name and last name may count double"
   ]
  },
  {
   "cell_type": "code",
   "execution_count": 22,
   "id": "1dc72252-b364-464b-9edf-d3ae08551f6f",
   "metadata": {},
   "outputs": [
    {
     "data": {
      "text/html": [
       "<div>\n",
       "<style scoped>\n",
       "    .dataframe tbody tr th:only-of-type {\n",
       "        vertical-align: middle;\n",
       "    }\n",
       "\n",
       "    .dataframe tbody tr th {\n",
       "        vertical-align: top;\n",
       "    }\n",
       "\n",
       "    .dataframe thead th {\n",
       "        text-align: right;\n",
       "    }\n",
       "</style>\n",
       "<table border=\"1\" class=\"dataframe\">\n",
       "  <thead>\n",
       "    <tr style=\"text-align: right;\">\n",
       "      <th></th>\n",
       "      <th>0</th>\n",
       "    </tr>\n",
       "    <tr>\n",
       "      <th>name</th>\n",
       "      <th></th>\n",
       "    </tr>\n",
       "  </thead>\n",
       "  <tbody>\n",
       "    <tr>\n",
       "      <th>Linda</th>\n",
       "      <td>774</td>\n",
       "    </tr>\n",
       "    <tr>\n",
       "      <th>Hitler</th>\n",
       "      <td>604</td>\n",
       "    </tr>\n",
       "    <tr>\n",
       "      <th>Vanja</th>\n",
       "      <td>512</td>\n",
       "    </tr>\n",
       "    <tr>\n",
       "      <th>Heidi</th>\n",
       "      <td>456</td>\n",
       "    </tr>\n",
       "    <tr>\n",
       "      <th>Geir</th>\n",
       "      <td>359</td>\n",
       "    </tr>\n",
       "    <tr>\n",
       "      <th>John</th>\n",
       "      <td>297</td>\n",
       "    </tr>\n",
       "    <tr>\n",
       "      <th>Kubizek</th>\n",
       "      <td>172</td>\n",
       "    </tr>\n",
       "    <tr>\n",
       "      <th>Hitlers</th>\n",
       "      <td>172</td>\n",
       "    </tr>\n",
       "    <tr>\n",
       "      <th>Njaal</th>\n",
       "      <td>124</td>\n",
       "    </tr>\n",
       "    <tr>\n",
       "      <th>Gunnar</th>\n",
       "      <td>123</td>\n",
       "    </tr>\n",
       "    <tr>\n",
       "      <th>Yngve</th>\n",
       "      <td>103</td>\n",
       "    </tr>\n",
       "    <tr>\n",
       "      <th>Wien</th>\n",
       "      <td>99</td>\n",
       "    </tr>\n",
       "    <tr>\n",
       "      <th>Christina</th>\n",
       "      <td>80</td>\n",
       "    </tr>\n",
       "    <tr>\n",
       "      <th>Tyskland</th>\n",
       "      <td>73</td>\n",
       "    </tr>\n",
       "    <tr>\n",
       "      <th>Malmo</th>\n",
       "      <td>72</td>\n",
       "    </tr>\n",
       "    <tr>\n",
       "      <th>Karl</th>\n",
       "      <td>72</td>\n",
       "    </tr>\n",
       "    <tr>\n",
       "      <th>Adolf</th>\n",
       "      <td>72</td>\n",
       "    </tr>\n",
       "    <tr>\n",
       "      <th>Hanfstaengl</th>\n",
       "      <td>59</td>\n",
       "    </tr>\n",
       "    <tr>\n",
       "      <th>Ingrid</th>\n",
       "      <td>50</td>\n",
       "    </tr>\n",
       "    <tr>\n",
       "      <th>Thomas</th>\n",
       "      <td>49</td>\n",
       "    </tr>\n",
       "  </tbody>\n",
       "</table>\n",
       "</div>"
      ],
      "text/plain": [
       "               0\n",
       "name            \n",
       "Linda        774\n",
       "Hitler       604\n",
       "Vanja        512\n",
       "Heidi        456\n",
       "Geir         359\n",
       "John         297\n",
       "Kubizek      172\n",
       "Hitlers      172\n",
       "Njaal        124\n",
       "Gunnar       123\n",
       "Yngve        103\n",
       "Wien          99\n",
       "Christina     80\n",
       "Tyskland      73\n",
       "Malmo         72\n",
       "Karl          72\n",
       "Adolf         72\n",
       "Hanfstaengl   59\n",
       "Ingrid        50\n",
       "Thomas        49"
      ]
     },
     "execution_count": 22,
     "metadata": {},
     "output_type": "execute_result"
    }
   ],
   "source": [
    "book.loc[gf.index].head(20)"
   ]
  },
  {
   "cell_type": "markdown",
   "id": "d80145f2-e591-476f-af63-c57dbde86704",
   "metadata": {},
   "source": [
    "### Sum up males and females"
   ]
  },
  {
   "cell_type": "code",
   "execution_count": 23,
   "id": "19c48a69-178d-4f70-9979-75fbaf752807",
   "metadata": {},
   "outputs": [
    {
     "data": {
      "text/plain": [
       "0    2151\n",
       "dtype: int64"
      ]
     },
     "execution_count": 23,
     "metadata": {},
     "output_type": "execute_result"
    }
   ],
   "source": [
    "males = book.loc[gf[gf['gender'] == 'male'].index].sum()\n",
    "males"
   ]
  },
  {
   "cell_type": "code",
   "execution_count": 24,
   "id": "8cbfc6fe-1d46-4e60-9925-e171afa01214",
   "metadata": {},
   "outputs": [
    {
     "data": {
      "text/plain": [
       "0    1777\n",
       "dtype: int64"
      ]
     },
     "execution_count": 24,
     "metadata": {},
     "output_type": "execute_result"
    }
   ],
   "source": [
    "females = book.loc[gf[gf['gender'] == 'female'].index].sum()\n",
    "females"
   ]
  },
  {
   "cell_type": "markdown",
   "id": "5fc399ea-944a-425e-8685-f20030254ec7",
   "metadata": {},
   "source": [
    "### Compare with the pronouns"
   ]
  },
  {
   "cell_type": "code",
   "execution_count": 25,
   "id": "37bde2f0-c174-4f90-9d28-aeabc1283e30",
   "metadata": {},
   "outputs": [
    {
     "data": {
      "text/plain": [
       "0    1.210467\n",
       "dtype: float64"
      ]
     },
     "execution_count": 25,
     "metadata": {},
     "output_type": "execute_result"
    }
   ],
   "source": [
    "males/females"
   ]
  },
  {
   "cell_type": "code",
   "execution_count": 26,
   "id": "0406c2d4-74d1-4d78-8079-59b420e8d6fc",
   "metadata": {},
   "outputs": [
    {
     "data": {
      "text/plain": [
       "0    1.587863\n",
       "dtype: float64"
      ]
     },
     "execution_count": 26,
     "metadata": {},
     "output_type": "execute_result"
    }
   ],
   "source": [
    "han/hun"
   ]
  },
  {
   "cell_type": "markdown",
   "id": "21d4082c-9027-4506-b750-b9063aa270ff",
   "metadata": {},
   "source": [
    "### Greater chance of referring to males than females"
   ]
  },
  {
   "cell_type": "code",
   "execution_count": 27,
   "id": "8a621228-8e9b-4188-852e-3550f1ccf0a0",
   "metadata": {},
   "outputs": [
    {
     "data": {
      "text/plain": [
       "0    1.751743\n",
       "dtype: float64"
      ]
     },
     "execution_count": 27,
     "metadata": {},
     "output_type": "execute_result"
    }
   ],
   "source": [
    "han/males"
   ]
  },
  {
   "cell_type": "code",
   "execution_count": 28,
   "id": "dfe9a1d8-4f49-40f6-874a-a55fdf734ea8",
   "metadata": {},
   "outputs": [
    {
     "data": {
      "text/plain": [
       "0    1.335397\n",
       "dtype: float64"
      ]
     },
     "execution_count": 28,
     "metadata": {},
     "output_type": "execute_result"
    }
   ],
   "source": [
    "hun/females"
   ]
  },
  {
   "cell_type": "markdown",
   "id": "6123192d-6803-493b-a328-d803cb4bfd98",
   "metadata": {},
   "source": [
    "## Exercise\n",
    "\n",
    "Change the metadata and choose a different book"
   ]
  },
  {
   "cell_type": "code",
   "execution_count": 40,
   "id": "d2bd6c67-6253-4daa-adeb-9f47d658e9a0",
   "metadata": {},
   "outputs": [
    {
     "data": {
      "text/plain": [
       "'male'"
      ]
     },
     "execution_count": 40,
     "metadata": {},
     "output_type": "execute_result"
    }
   ],
   "source": [
    "detect.get_gender(\"Gisle\")"
   ]
  }
 ],
 "metadata": {
  "kernelspec": {
   "display_name": "Python 3",
   "language": "python",
   "name": "python3"
  },
  "language_info": {
   "codemirror_mode": {
    "name": "ipython",
    "version": 3
   },
   "file_extension": ".py",
   "mimetype": "text/x-python",
   "name": "python",
   "nbconvert_exporter": "python",
   "pygments_lexer": "ipython3",
   "version": "3.8.1"
  }
 },
 "nbformat": 4,
 "nbformat_minor": 5
}
